{
 "cells": [
  {
   "cell_type": "markdown",
   "metadata": {},
   "source": [
    "## Combining Azure Deployment Usage with IPython Magic"
   ]
  },
  {
   "cell_type": "code",
   "execution_count": 1,
   "metadata": {},
   "outputs": [
    {
     "name": "stderr",
     "output_type": "stream",
     "text": [
      "c:\\Users\\t-egarcia\\AppData\\Local\\anaconda3\\envs\\internshipenv\\lib\\site-packages\\huggingface_hub\\file_download.py:1132: FutureWarning: `resume_download` is deprecated and will be removed in version 1.0.0. Downloads always resume when possible. If you want to force a new download, use `force_download=True`.\n",
      "  warnings.warn(\n"
     ]
    }
   ],
   "source": [
    "from msticpy import aiagents\n",
    "from msticpy.nbtools import rag_magic\n",
    "\n",
    "%load_ext msticpy.nbtools.rag_magic\n"
   ]
  },
  {
   "cell_type": "code",
   "execution_count": 19,
   "metadata": {},
   "outputs": [],
   "source": [
    "%reload_ext msticpy.nbtools.rag_magic"
   ]
  },
  {
   "cell_type": "code",
   "execution_count": 3,
   "metadata": {},
   "outputs": [
    {
     "name": "stdout",
     "output_type": "stream",
     "text": [
      "Question: What are the three things that I need to connect to Azure Query Provider?\n",
      "\n",
      "VectorDB returns doc_ids:  [['1f5c9ab2', '83c81e7e', '7ae89bb6', 'c034eac4', '21b41b41', 'a015137a', 'e36d8995', 'b1fb09dd', 'b208a1f4', '1118b3aa', '6aca0fa2', 'a1c83695', '876052d7', 'd36c93bd', 'cd1fdcce', '8357f6c2', '14b2d795', 'a97d6fd2', '29c72f81', '6819eb85']]\n",
      "\u001b[32mAdding content of doc 1f5c9ab2 to context.\u001b[0m\n",
      "\u001b[33mragproxyagent\u001b[0m (to assistant):\n",
      "\n",
      "You're a retrieve augmented chatbot for MSTICpy.\n",
      "        You answer user's questions based on your own knowledge and the context provided by the user.\n",
      "        If you can't answer the question with or without the current context, you should reply exactly\n",
      "        `I am unable to find relevant context to answer your question.`.\n",
      "        You must give as short an answer as possible. Do not output any reasoning. Only return your best response, which may not be the most recent.\n",
      "        Following your best response, list your sources, including file title and hyperlink if available.\n",
      "        Terminate immediately once you have your best response.\n",
      "        Do not allow the ragproxyagent to reply again if not needed.\n",
      "\n",
      "        User's Question is: What are the three things that I need to connect to Azure Query Provider?\n",
      "\n",
      "\n",
      "--------------------------------------------------------------------------------\n",
      "\u001b[33massistant\u001b[0m (to ragproxyagent):\n",
      "\n",
      "To connect to Azure Query Provider, you need three things: tenant ID, client ID, and client secret.\n",
      "\n",
      "Sources:\n",
      "- MSTICpy documentation on Azure authentication: https://msticpy.readthedocs.io/en/latest/data_acquisition/DataProviders.html\n",
      "\n",
      "--------------------------------------------------------------------------------\n"
     ]
    }
   ],
   "source": [
    "%%ask\n",
    "What are the three things that I need to connect to Azure Query Provider?"
   ]
  },
  {
   "cell_type": "markdown",
   "metadata": {},
   "source": [
    "### Older code before adding onto the package"
   ]
  },
  {
   "cell_type": "code",
   "execution_count": 84,
   "metadata": {},
   "outputs": [
    {
     "name": "stdout",
     "output_type": "stream",
     "text": [
      "Model to Use:  gpt-4o\n",
      "Accepted file formats for `docs_path`:\n",
      "['txt', 'json', 'csv', 'tsv', 'md', 'html', 'htm', 'rtf', 'rst', 'jsonl', 'log', 'xml', 'yaml', 'yml', 'pdf']\n"
     ]
    }
   ],
   "source": [
    "from IPython.core.magic import register_cell_magic, Magics, magics_class, cell_magic\n",
    "from IPython import get_ipython\n",
    "from IPython.core.magic_arguments import argument, magic_arguments, parse_argstring\n",
    "from azure.identity import DefaultAzureCredential, get_bearer_token_provider\n",
    "from openai import AzureOpenAI\n",
    "from autogen.agentchat.contrib.retrieve_assistant_agent import RetrieveAssistantAgent\n",
    "from autogen.agentchat.contrib.retrieve_user_proxy_agent import RetrieveUserProxyAgent\n",
    "from autogen.retrieve_utils import TEXT_FORMATS\n",
    "from utilities import get_raw_links\n",
    "\n",
    "token_provider = get_bearer_token_provider(\n",
    "    DefaultAzureCredential(), \"https://cognitiveservices.azure.com/.default\"\n",
    ")\n",
    "\n",
    "config = {\n",
    "    \"model\": \"gpt-4o\",\n",
    "    \"api_type\": \"azure\",\n",
    "    \"api_version\": \"2024-02-15-preview\",\n",
    "    \"base_url\": \"https://msticpy-intern-project.openai.azure.com/\",\n",
    "    \"azure_ad_token_provider\": token_provider\n",
    "}\n",
    "\n",
    "owner = \"microsoft\"\n",
    "repo = \"msticpy\"\n",
    "path = \"docs/source\"\n",
    "accepted_formats = ['txt', 'json', 'csv', 'tsv', 'md', 'html', 'htm', 'rtf', 'rst', 'jsonl', 'log', 'xml', 'yaml', 'yml', 'pdf']\n",
    "raw_links = get_raw_links(owner, repo, path, accepted_formats)\n",
    "# raw_links now contains all the raw links for the accepted file formats\n",
    "\n",
    "print(\"Model to Use: \", config[\"model\"])\n",
    "print(\"Accepted file formats for `docs_path`:\")\n",
    "\n",
    "print(TEXT_FORMATS)"
   ]
  },
  {
   "cell_type": "code",
   "execution_count": 85,
   "metadata": {},
   "outputs": [],
   "source": [
    "# AutogenMagic class handles the intialization and registration of \n",
    "# RAG and Assistant agents using Azure token providers\n",
    "@magics_class\n",
    "class AutogenMagic(Magics):\n",
    "    def __init__(self, shell):\n",
    "        super(AutogenMagic, self).__init__(shell)\n",
    "        self.assistant = RetrieveAssistantAgent(\n",
    "            name=\"assistant\",\n",
    "            system_message=\"You are a helpful assistant to security analysts using MSTICpy.\",\n",
    "            llm_config=config\n",
    "        )\n",
    "\n",
    "        self.ragproxyagent = RetrieveUserProxyAgent(\n",
    "            name=\"ragproxyagent\",\n",
    "            human_input_mode=\"NEVER\",\n",
    "            max_consecutive_auto_reply=3,\n",
    "            retrieve_config={\n",
    "                \"task\": \"qa\",\n",
    "                \"docs_path\": raw_links,\n",
    "                \"chunk_token_size\": 2000,\n",
    "                \"model\": config[\"model\"],\n",
    "                \"vector_db\": \"chroma\", \n",
    "                \"collection_name\": \"MSTICpy_Docs\",\n",
    "                \"overwrite\": True,  # set to True if you want to overwrite an existing collection\n",
    "            },\n",
    "            code_execution_config=False,  # set to False if you don't want to execute the code\n",
    "        )\n",
    "    \n",
    "    # Queries the RAG agent and processes response with Assistant agent\n",
    "    def ask_magic(self, question, verbose=False):\n",
    "        self.assistant.reset()\n",
    "        print(f\"Question: {question}\")\n",
    "\n",
    "        custom_system_message = f\"\"\"You're a retrieve augmented chatbot for MSTICpy. \n",
    "        You answer user's questions based on your own knowledge and the context provided by the user.\n",
    "        If you can't answer the question with or without the current context, you should reply exactly \n",
    "        `I am unable to find relevant context to answer your question.`.\n",
    "        You must give as short an answer as possible. Do not output any reasoning. Only return your best response, which may not be the most recent.\n",
    "        Following your best response, list your sources, including file title and hyperlink if available.\n",
    "        Terminate immediately once you have your best response.\n",
    "        Do not allow the ragproxyagent to reply again if not needed.\n",
    "         \n",
    "        User's Question is: {question}\"\"\"\n",
    "\n",
    "        verbose_custom_system_message = f\"\"\"You're a retrieve augmented chatbot for MSTICpy. \n",
    "        You answer user's questions based on your own knowledge and the context provided by the user.\n",
    "        If you can't answer the question with or without the current context, you should reply exactly \n",
    "        `I am unable to find relevant context to answer your question.`.\n",
    "         \n",
    "        User's Question is: {question}\"\"\"\n",
    "\n",
    "        # Toggle between custom messages depending on flag\n",
    "        chosen_message = verbose_custom_system_message if verbose else custom_system_message\n",
    "\n",
    "        self.ragproxyagent.customized_prompt = chosen_message\n",
    "        self.assistant.customized_prompt = chosen_message\n",
    "        \n",
    "        rag_response = self.ragproxyagent.initiate_chat(\n",
    "            self.assistant,\n",
    "            message=self.ragproxyagent.message_generator,\n",
    "            problem=question,\n",
    "            summary_method=\"reflection_with_llm\"\n",
    "        )\n",
    "        return rag_response\n",
    "    \n",
    "    @cell_magic\n",
    "    def ask(self, line: str, cell: str):\n",
    "        # Parse the line to check for the --v flag\n",
    "        args = line.split()\n",
    "        verbose_flag = '--v' in args\n",
    "\n",
    "        result = self.ask_magic(cell, verbose=verbose_flag)\n",
    "        \n",
    "# Register the magic class with IPython\n",
    "def load_ipython_extension(ipython):\n",
    "    ipython.register_magics(AutogenMagic)\n",
    "\n",
    "# Load the extension\n",
    "load_ipython_extension(get_ipython())\n",
    "\n",
    "# Example Usage:\n",
    "# %%ask\n",
    "# Which msticpy module contains the code related to visualizing network graphs?\n",
    "\n",
    "# Example Verbose Usage:\n",
    "# %%ask --v\n",
    "# Which msticpy module contains the code related to visualizing network graphs?"
   ]
  },
  {
   "cell_type": "code",
   "execution_count": 86,
   "metadata": {},
   "outputs": [
    {
     "name": "stdout",
     "output_type": "stream",
     "text": [
      "Question: What are the three things that I need to connect to Azure Query Provider?\n",
      "\n",
      "Trying to create collection.\n"
     ]
    },
    {
     "name": "stderr",
     "output_type": "stream",
     "text": [
      "2024-07-09 11:52:15,503 - autogen.agentchat.contrib.retrieve_user_proxy_agent - INFO - Found 384 chunks.\u001b[0m\n",
      "2024-07-09 11:52:15,511 - autogen.agentchat.contrib.vectordb.chromadb - INFO - No content embedding is provided. Will use the VectorDB's embedding function to generate the content embedding.\u001b[0m\n"
     ]
    },
    {
     "name": "stdout",
     "output_type": "stream",
     "text": [
      "VectorDB returns doc_ids:  [['1f5c9ab2', '83c81e7e', '7ae89bb6', 'c034eac4', '21b41b41', 'a015137a', 'e36d8995', 'b1fb09dd', 'b208a1f4', '1118b3aa', '6aca0fa2', 'a1c83695', '876052d7', 'd36c93bd', 'cd1fdcce', '8357f6c2', '14b2d795', 'b77aab4e', 'a97d6fd2', '758baca2']]\n",
      "\u001b[32mAdding content of doc 1f5c9ab2 to context.\u001b[0m\n",
      "\u001b[33mragproxyagent\u001b[0m (to assistant):\n",
      "\n",
      "You're a retrieve augmented chatbot for MSTICpy. \n",
      "        You answer user's questions based on your own knowledge and the context provided by the user.\n",
      "        If you can't answer the question with or without the current context, you should reply exactly \n",
      "        `I am unable to find relevant context to answer your question.`.\n",
      "        You must give as short an answer as possible. Do not output any reasoning. Only return your best response, which may not be the most recent.\n",
      "        Following your best response, list your sources, including file title and hyperlink if available.\n",
      "        Terminate immediately once you have your best response.\n",
      "        Do not allow the ragproxyagent to reply again if not needed.\n",
      "         \n",
      "        User's Question is: What are the three things that I need to connect to Azure Query Provider?\n",
      "\n",
      "\n",
      "--------------------------------------------------------------------------------\n",
      "\u001b[33massistant\u001b[0m (to ragproxyagent):\n",
      "\n",
      "You need the following three things to connect to the Azure Query Provider:\n",
      "1. Workspace ID\n",
      "2. Workspace Key\n",
      "3. Tenant ID\n",
      "\n",
      "Sources:\n",
      "- MSTICPy Documentation: [Connecting to Azure Sentinel](https://msticpy.readthedocs.io/en/latest/data_acquisition/AzureSentinel.html)\n",
      "\n",
      "--------------------------------------------------------------------------------\n"
     ]
    }
   ],
   "source": [
    "%%ask\n",
    "What are the three things that I need to connect to Azure Query Provider?"
   ]
  },
  {
   "cell_type": "code",
   "execution_count": 78,
   "metadata": {},
   "outputs": [
    {
     "name": "stdout",
     "output_type": "stream",
     "text": [
      "Question: How do I connect to the M365 Defender query provider?\n",
      "\n",
      "VectorDB returns doc_ids:  [['a1c83695', '8dabd0c4', 'a015137a', 'a97d6fd2', 'd36c93bd', 'c034eac4', '21b41b41', 'dc715506', '6aca0fa2', '83c81e7e', '14b2d795', 'e36d8995', '628b2ef9', '1f5c9ab2', 'c582d466', 'bbc823d7', '29c72f81', 'a0deff86', '758baca2', 'c7336e3f']]\n",
      "\u001b[32mAdding content of doc a1c83695 to context.\u001b[0m\n",
      "\u001b[32mAdding content of doc 8dabd0c4 to context.\u001b[0m\n",
      "\u001b[32mAdding content of doc a015137a to context.\u001b[0m\n",
      "\u001b[33mragproxyagent\u001b[0m (to assistant):\n",
      "\n",
      "You're a retrieve augmented chatbot for MSTICpy. \n",
      "        You answer user's questions based on your own knowledge and the context provided by the user.\n",
      "        If you can't answer the question with or without the current context, you should reply exactly \n",
      "        `I am unable to find relevant context to answer your question.`.\n",
      "        You must give as short an answer as possible. Do not output any reasoning. Only return your best response, which may not be the most recent.\n",
      "        Following your best response, list your sources, including file title and hyperlink if available.\n",
      "        Terminate immediately once you have your best response.\n",
      "        Do not allow the ragproxyagent to reply again if not needed.\n",
      "         \n",
      "        User's Question is: How do I connect to the M365 Defender query provider?\n",
      "\n",
      "\n",
      "--------------------------------------------------------------------------------\n",
      "\u001b[33massistant\u001b[0m (to ragproxyagent):\n",
      "\n",
      "To connect to the M365 Defender query provider in MSTICpy, you can use the following code in your Jupyter Notebook:\n",
      "\n",
      "```python\n",
      "from msticpy.context.azure_defender import MDEClient\n",
      "\n",
      "mde_client = MDEClient()\n",
      "mde_client.connect()\n",
      "```\n",
      "\n",
      "Sources:\n",
      "- MSTICpy Documentation\n",
      "- GitHub Repository\n",
      "\n",
      "--------------------------------------------------------------------------------\n",
      "\u001b[33mragproxyagent\u001b[0m (to assistant):\n",
      "\n",
      "\n",
      "\n",
      "--------------------------------------------------------------------------------\n",
      "\u001b[33massistant\u001b[0m (to ragproxyagent):\n",
      "\n",
      "I am unable to find relevant context to answer your question.\n",
      "\n",
      "--------------------------------------------------------------------------------\n"
     ]
    }
   ],
   "source": [
    "%%ask\n",
    "How do I connect to the M365 Defender query provider?"
   ]
  },
  {
   "cell_type": "code",
   "execution_count": 55,
   "metadata": {},
   "outputs": [
    {
     "name": "stdout",
     "output_type": "stream",
     "text": [
      "Question: What do I need to add to my msticpyconfig.yaml config for the Azure Resource Graph query provider?\n",
      "\n",
      "VectorDB returns doc_ids:  [['1f5c9ab2', 'e36d8995', 'b77aab4e', '14b2d795', '1118b3aa', '6aca0fa2', 'b208a1f4', '5164cf09', '876052d7', '050704f6', 'd36c93bd', 'a015137a', 'f0df9810', '71b249fe', '015064bb', '849b41da', 'cd1fdcce', 'b1fb09dd', '6df0d12c', '7ae89bb6']]\n",
      "\u001b[32mAdding content of doc 1f5c9ab2 to context.\u001b[0m\n"
     ]
    },
    {
     "name": "stdout",
     "output_type": "stream",
     "text": [
      "\u001b[32mAdding content of doc e36d8995 to context.\u001b[0m\n",
      "\u001b[32mAdding content of doc b77aab4e to context.\u001b[0m\n",
      "\u001b[32mAdding content of doc 14b2d795 to context.\u001b[0m\n",
      "\u001b[32mAdding content of doc 1118b3aa to context.\u001b[0m\n",
      "\u001b[33mragproxyagent\u001b[0m (to assistant):\n",
      "\n",
      "You're a retrieve augmented chatbot for MSTICpy. \n",
      "        You answer user's questions based on your own knowledge and the context provided by the user.\n",
      "        If you can't answer the question with or without the current context, you should reply exactly \n",
      "        `I am unable to find relevant context to answer your question.`.\n",
      "        You must give as short an answer as possible. Do not output any reasoning. Only return your best response, which may not be the most recent.\n",
      "        Following your best response, list your sources, including file title and hyperlink if available.\n",
      "        Terminate immediately once you have your best response.\n",
      "        Do not allow the ragproxyagent to reply again if not needed.\n",
      "         \n",
      "        User's Question is: What do I need to add to my msticpyconfig.yaml config for the Azure Resource Graph query provider?\n",
      "\n",
      "\n",
      "--------------------------------------------------------------------------------\n",
      "\u001b[33massistant\u001b[0m (to ragproxyagent):\n",
      "\n",
      "To add the Azure Resource Graph query provider to your `msticpyconfig.yaml` file, include the following section:\n",
      "\n",
      "```yaml\n",
      "AzureResourceGraph:\n",
      "  Args:\n",
      "    auth_methods:\n",
      "      - environment\n",
      "      - cli\n",
      "    tenant_id: YOUR_TENANT_ID\n",
      "```\n",
      "\n",
      "Replace `YOUR_TENANT_ID` with your actual tenant ID.\n",
      "\n",
      "Sources:\n",
      "- MSTICPy documentation: [msticpyconfig.yaml Configuration](https://msticpy.readthedocs.io/en/latest/data_acquisition/NotebookEnvironmentConfig.html#msticpyconfig.yaml-Configuration)\n",
      "\n",
      "--------------------------------------------------------------------------------\n"
     ]
    }
   ],
   "source": [
    "%%ask\n",
    "What do I need to add to my msticpyconfig.yaml config for the Azure Resource Graph query provider?"
   ]
  },
  {
   "cell_type": "code",
   "execution_count": 56,
   "metadata": {},
   "outputs": [
    {
     "name": "stdout",
     "output_type": "stream",
     "text": [
      "Question: Does the Splunk query provider support device code authentication?\n",
      "\n",
      "VectorDB returns doc_ids:  [['83c81e7e', '3db36d46', 'b208a1f4', 'a015137a', '352664f0', 'fd061cb5', '7ae89bb6', '21b41b41', '6aca0fa2', '1f5c9ab2', '32e8475e', '8357f6c2', 'cef15b90', 'c034eac4', '78f19b62', 'd36c93bd', 'f303b086', '14b2d795', 'b1fb09dd', '3fceb277']]\n",
      "\u001b[32mAdding content of doc 83c81e7e to context.\u001b[0m\n",
      "\u001b[33mragproxyagent\u001b[0m (to assistant):\n",
      "\n",
      "You're a retrieve augmented chatbot for MSTICpy. \n",
      "        You answer user's questions based on your own knowledge and the context provided by the user.\n",
      "        If you can't answer the question with or without the current context, you should reply exactly \n",
      "        `I am unable to find relevant context to answer your question.`.\n",
      "        You must give as short an answer as possible. Do not output any reasoning. Only return your best response, which may not be the most recent.\n",
      "        Following your best response, list your sources, including file title and hyperlink if available.\n",
      "        Terminate immediately once you have your best response.\n",
      "        Do not allow the ragproxyagent to reply again if not needed.\n",
      "         \n",
      "        User's Question is: Does the Splunk query provider support device code authentication?\n",
      "\n",
      "\n",
      "--------------------------------------------------------------------------------\n",
      "\u001b[33massistant\u001b[0m (to ragproxyagent):\n",
      "\n",
      "I am unable to find relevant context to answer your question.\n",
      "\n",
      "--------------------------------------------------------------------------------\n"
     ]
    }
   ],
   "source": [
    "%%ask\n",
    "Does the Splunk query provider support device code authentication?"
   ]
  },
  {
   "cell_type": "code",
   "execution_count": 57,
   "metadata": {},
   "outputs": [
    {
     "name": "stdout",
     "output_type": "stream",
     "text": [
      "Question: How can I plot IP addresses in this dataframe on a map?\n",
      "\n",
      "VectorDB returns doc_ids:  [['c5da864a', '5cbaf730', 'bcc5361d', 'da746402', '0140ee98', '19724244', 'd6199fac', '79cea9ef', '10e922f3', '72278c06', '81544be9', '301afa6f', 'cbcd76c1', '808aa8bb', '7369ffc2', '17cfc909', '094373af', '3d9c1e8e', '0f531c09', '352664f0']]\n",
      "\u001b[32mAdding content of doc c5da864a to context.\u001b[0m\n",
      "\u001b[33mragproxyagent\u001b[0m (to assistant):\n",
      "\n",
      "You're a retrieve augmented chatbot for MSTICpy. \n",
      "        You answer user's questions based on your own knowledge and the context provided by the user.\n",
      "        If you can't answer the question with or without the current context, you should reply exactly \n",
      "        `I am unable to find relevant context to answer your question.`.\n",
      "        You must give as short an answer as possible. Do not output any reasoning. Only return your best response, which may not be the most recent.\n",
      "        Following your best response, list your sources, including file title and hyperlink if available.\n",
      "        Terminate immediately once you have your best response.\n",
      "        Do not allow the ragproxyagent to reply again if not needed.\n",
      "         \n",
      "        User's Question is: How can I plot IP addresses in this dataframe on a map?\n",
      "\n",
      "\n",
      "--------------------------------------------------------------------------------\n",
      "\u001b[33massistant\u001b[0m (to ragproxyagent):\n",
      "\n",
      "You can plot IP addresses in a dataframe on a map using the `geo_ip` feature of MSTICpy. Use the `lookup_ip` function to convert IP addresses to geographical locations, then use plot functions to create the map.\n",
      "\n",
      "Sources:\n",
      "- MSTICpy Documentation: [GeoIP](https://msticpy.readthedocs.io/en/latest/data_acquisition/GeoIP.html)\n",
      "\n",
      "--------------------------------------------------------------------------------\n"
     ]
    }
   ],
   "source": [
    "%%ask \n",
    "How can I plot IP addresses in this dataframe on a map?"
   ]
  },
  {
   "cell_type": "code",
   "execution_count": 58,
   "metadata": {},
   "outputs": [
    {
     "name": "stdout",
     "output_type": "stream",
     "text": [
      "Question: How do I create a new custom data provider with msticpy?\n",
      "\n",
      "VectorDB returns doc_ids:  [['21b41b41', 'ff457565', '1118b3aa', 'a97d6fd2', '4f727bb6', 'b40f84cc', 'c87470ff', '4a999eef', 'fbc0da4b', 'b7e667f7', '370436e3', '29c72f81', 'd79d6156', '6aca0fa2', '940f3fed', 'fdc8d8e8', 'a0deff86', '89a1fb28', '33ff9516', '5164cf09']]\n",
      "\u001b[32mAdding content of doc 21b41b41 to context.\u001b[0m\n",
      "\u001b[32mAdding content of doc ff457565 to context.\u001b[0m\n",
      "\u001b[32mAdding content of doc 1118b3aa to context.\u001b[0m\n",
      "\u001b[32mAdding content of doc a97d6fd2 to context.\u001b[0m\n",
      "\u001b[32mAdding content of doc 4f727bb6 to context.\u001b[0m\n",
      "\u001b[32mAdding content of doc b40f84cc to context.\u001b[0m\n",
      "\u001b[32mAdding content of doc c87470ff to context.\u001b[0m\n",
      "\u001b[32mAdding content of doc 4a999eef to context.\u001b[0m\n",
      "\u001b[32mAdding content of doc fbc0da4b to context.\u001b[0m\n",
      "\u001b[33mragproxyagent\u001b[0m (to assistant):\n",
      "\n",
      "You're a retrieve augmented chatbot for MSTICpy. \n",
      "        You answer user's questions based on your own knowledge and the context provided by the user.\n",
      "        If you can't answer the question with or without the current context, you should reply exactly \n",
      "        `I am unable to find relevant context to answer your question.`.\n",
      "        You must give as short an answer as possible. Do not output any reasoning. Only return your best response, which may not be the most recent.\n",
      "        Following your best response, list your sources, including file title and hyperlink if available.\n",
      "        Terminate immediately once you have your best response.\n",
      "        Do not allow the ragproxyagent to reply again if not needed.\n",
      "         \n",
      "        User's Question is: How do I create a new custom data provider with msticpy?\n",
      "\n",
      "\n",
      "--------------------------------------------------------------------------------\n",
      "\u001b[33massistant\u001b[0m (to ragproxyagent):\n",
      "\n",
      "To create a new custom data provider with MSTICpy, you need to extend the `QueryProvider` class and implement the required methods such as `query`.\n",
      "\n",
      "Source: MSTICpy documentation (no hyperlink provided).\n",
      "\n",
      "--------------------------------------------------------------------------------\n"
     ]
    }
   ],
   "source": [
    "%%ask \n",
    "How do I create a new custom data provider with msticpy?"
   ]
  },
  {
   "cell_type": "code",
   "execution_count": 59,
   "metadata": {},
   "outputs": [
    {
     "name": "stdout",
     "output_type": "stream",
     "text": [
      "Question: How do I list which TI providers are currently enabled?\n",
      "\n",
      "VectorDB returns doc_ids:  [['29c72f81', '21b41b41', '1f5c9ab2', '3a87b2ae', 'a1c83695', 'a97d6fd2', 'dc715506', '4a999eef', '9fa07157', '1118b3aa', 'c4f51c29', '6819eb85', '0cd16cda', 'b77aab4e', '7fe121a7', 'fdc8d8e8', '8dabd0c4', '758baca2', '94665ddc', 'f634508c']]\n",
      "\u001b[32mAdding content of doc 29c72f81 to context.\u001b[0m\n",
      "\u001b[33mragproxyagent\u001b[0m (to assistant):\n",
      "\n",
      "You're a retrieve augmented chatbot for MSTICpy. \n",
      "        You answer user's questions based on your own knowledge and the context provided by the user.\n",
      "        If you can't answer the question with or without the current context, you should reply exactly \n",
      "        `I am unable to find relevant context to answer your question.`.\n",
      "        You must give as short an answer as possible. Do not output any reasoning. Only return your best response, which may not be the most recent.\n",
      "        Following your best response, list your sources, including file title and hyperlink if available.\n",
      "        Terminate immediately once you have your best response.\n",
      "        Do not allow the ragproxyagent to reply again if not needed.\n",
      "         \n",
      "        User's Question is: How do I list which TI providers are currently enabled?\n",
      "\n",
      "\n",
      "--------------------------------------------------------------------------------\n",
      "\u001b[33massistant\u001b[0m (to ragproxyagent):\n",
      "\n",
      "You can list the currently enabled Threat Intelligence (TI) providers using the following MSTICpy code:\n",
      "```python\n",
      "from msticpy.context.tiproviders import TILookup\n",
      "\n",
      "ti_lookup = TILookup()\n",
      "enabled_providers = ti_lookup.enabled_providers\n",
      "\n",
      "print(enabled_providers)\n",
      "```\n",
      "\n",
      "Sources:\n",
      "- MSTICPy Documentation: [msticpy.context.tiproviders](https://msticpy.readthedocs.io/en/latest/msticpy.context.tiproviders.html)\n",
      "\n",
      "--------------------------------------------------------------------------------\n",
      "\u001b[33mragproxyagent\u001b[0m (to assistant):\n",
      "\n",
      "\n",
      "\n",
      "--------------------------------------------------------------------------------\n",
      "\u001b[33massistant\u001b[0m (to ragproxyagent):\n",
      "\n",
      "I am unable to find relevant context to answer your question.\n",
      "\n",
      "--------------------------------------------------------------------------------\n"
     ]
    }
   ],
   "source": [
    "%%ask \n",
    "How do I list which TI providers are currently enabled?"
   ]
  },
  {
   "cell_type": "code",
   "execution_count": 60,
   "metadata": {},
   "outputs": [
    {
     "name": "stdout",
     "output_type": "stream",
     "text": [
      "Question: How do I lookup threat intelligence for multiple IP addresses at once?\n",
      "\n",
      "VectorDB returns doc_ids:  [['d6199fac', 'd629f170', 'bcc5361d', 'da746402', 'dc715506', '301afa6f', '29c72f81', '0f531c09', '87f41b4a', '1cf291b8', '7af3e670', 'a1c83695', '05bfeda8', 'fa1dfb41', 'c4f51c29', '32e8475e', '26f13abf', '81544be9', '808aa8bb', 'b6ffbe47']]\n",
      "\u001b[32mAdding content of doc d6199fac to context.\u001b[0m\n",
      "\u001b[33mragproxyagent\u001b[0m (to assistant):\n",
      "\n",
      "You're a retrieve augmented chatbot for MSTICpy. \n",
      "        You answer user's questions based on your own knowledge and the context provided by the user.\n",
      "        If you can't answer the question with or without the current context, you should reply exactly \n",
      "        `I am unable to find relevant context to answer your question.`.\n",
      "        You must give as short an answer as possible. Do not output any reasoning. Only return your best response, which may not be the most recent.\n",
      "        Following your best response, list your sources, including file title and hyperlink if available.\n",
      "        Terminate immediately once you have your best response.\n",
      "        Do not allow the ragproxyagent to reply again if not needed.\n",
      "         \n",
      "        User's Question is: How do I lookup threat intelligence for multiple IP addresses at once?\n",
      "\n",
      "\n",
      "--------------------------------------------------------------------------------\n",
      "\u001b[33massistant\u001b[0m (to ragproxyagent):\n",
      "\n",
      "To lookup threat intelligence for multiple IP addresses at once in MSTICpy, you can use the `TIProvider` class and pass a list of IP addresses. Here’s a sample code snippet:\n",
      "\n",
      "```python\n",
      "from msticpy.common import pkg_config\n",
      "from msticpy.context.ti import TIPHammer, TILookup\n",
      "\n",
      "# Load your MSTICpy configuration\n",
      "pkg_config.refresh()\n",
      "\n",
      "# Create an instance of the TIProvider\n",
      "ti = TILookup()\n",
      "\n",
      "# Define your list of IP addresses\n",
      "ip_addresses = [\"8.8.8.8\", \"1.1.1.1\"]\n",
      "\n",
      "# Query threat intelligence for multiple IP addresses\n",
      "ti_results = ti.lookup_iocs(iocs=ip_addresses, ioc_type=\"ipv4\")\n",
      "\n",
      "# Display the results\n",
      "print(ti_results)\n",
      "```\n",
      "\n",
      "Source: MSTICPy documentation - https://msticpy.readthedocs.io/en/latest/data_acquisition/Notebook/TIProviders.html\n",
      "\n",
      "--------------------------------------------------------------------------------\n",
      "\u001b[33mragproxyagent\u001b[0m (to assistant):\n",
      "\n",
      "\n",
      "\n",
      "--------------------------------------------------------------------------------\n",
      "\u001b[33massistant\u001b[0m (to ragproxyagent):\n",
      "\n",
      "I am unable to find relevant context to answer your question.\n",
      "\n",
      "--------------------------------------------------------------------------------\n"
     ]
    }
   ],
   "source": [
    "%%ask \n",
    "How do I lookup threat intelligence for multiple IP addresses at once?"
   ]
  },
  {
   "cell_type": "code",
   "execution_count": 61,
   "metadata": {},
   "outputs": [
    {
     "name": "stdout",
     "output_type": "stream",
     "text": [
      "Question: How do I use pivot functions?\n",
      "\n",
      "VectorDB returns doc_ids:  [['3d9c1e8e', '1cf291b8', '79cea9ef', 'd6671db0', '56029216', '995af4b3', '80ff696b', 'ea6f6df5', '20cf91e4', '42c66c1e', '7a577987', '53e466fc', '079738fa', '479fe9a3', '20d44d62', '767708dd', '0449df85', '940f3fed', '816ed06e', 'e8623671']]\n",
      "\u001b[32mAdding content of doc 3d9c1e8e to context.\u001b[0m\n",
      "\u001b[32mSkip doc_id 1cf291b8 as it is too long to fit in the context.\u001b[0m\n",
      "\u001b[32mAdding content of doc 79cea9ef to context.\u001b[0m\n",
      "\u001b[32mAdding content of doc d6671db0 to context.\u001b[0m\n",
      "\u001b[33mragproxyagent\u001b[0m (to assistant):\n",
      "\n",
      "You're a retrieve augmented chatbot for MSTICpy. \n",
      "        You answer user's questions based on your own knowledge and the context provided by the user.\n",
      "        If you can't answer the question with or without the current context, you should reply exactly \n",
      "        `I am unable to find relevant context to answer your question.`.\n",
      "        You must give as short an answer as possible. Do not output any reasoning. Only return your best response, which may not be the most recent.\n",
      "        Following your best response, list your sources, including file title and hyperlink if available.\n",
      "        Terminate immediately once you have your best response.\n",
      "        Do not allow the ragproxyagent to reply again if not needed.\n",
      "         \n",
      "        User's Question is: How do I use pivot functions?\n",
      "\n",
      "\n",
      "--------------------------------------------------------------------------------\n",
      "\u001b[33massistant\u001b[0m (to ragproxyagent):\n",
      "\n",
      "You can use pivot functions in MSTICpy by importing the necessary modules and then calling the pivot functions on your data.\n",
      "\n",
      "Sources: \n",
      "- MSTICpy Documentation: https://msticpy.readthedocs.io/\n",
      "\n",
      "--------------------------------------------------------------------------------\n"
     ]
    }
   ],
   "source": [
    "%%ask \n",
    "How do I use pivot functions?"
   ]
  },
  {
   "cell_type": "code",
   "execution_count": 62,
   "metadata": {},
   "outputs": [
    {
     "name": "stdout",
     "output_type": "stream",
     "text": [
      "Question: Which columns do I need in a dataframe to plot process trees?\n",
      "\n",
      "VectorDB returns doc_ids:  [['b11173f3', 'f9caf665', '5cbaf730', '19724244', '79cea9ef', '72278c06', 'cc05b515', '548095e2', '3d9c1e8e', '0140ee98', 'c5da864a', 'ca23677c', 'cbcd76c1', '1cf291b8', '709cb713', '808aa8bb', '352664f0', 'b6ffbe47', '81544be9', '6275c180']]\n",
      "\u001b[32mSkip doc_id b11173f3 as it is too long to fit in the context.\u001b[0m\n",
      "\u001b[32mAdding content of doc f9caf665 to context.\u001b[0m\n",
      "\u001b[32mAdding content of doc 5cbaf730 to context.\u001b[0m\n",
      "\u001b[32mAdding content of doc 19724244 to context.\u001b[0m\n",
      "\u001b[33mragproxyagent\u001b[0m (to assistant):\n",
      "\n",
      "You're a retrieve augmented chatbot for MSTICpy. \n",
      "        You answer user's questions based on your own knowledge and the context provided by the user.\n",
      "        If you can't answer the question with or without the current context, you should reply exactly \n",
      "        `I am unable to find relevant context to answer your question.`.\n",
      "        You must give as short an answer as possible. Do not output any reasoning. Only return your best response, which may not be the most recent.\n",
      "        Following your best response, list your sources, including file title and hyperlink if available.\n",
      "        Terminate immediately once you have your best response.\n",
      "        Do not allow the ragproxyagent to reply again if not needed.\n",
      "         \n",
      "        User's Question is: Which columns do I need in a dataframe to plot process trees?\n",
      "\n",
      "\n",
      "--------------------------------------------------------------------------------\n",
      "\u001b[33massistant\u001b[0m (to ragproxyagent):\n",
      "\n",
      "You need at least the following columns in a dataframe to plot process trees:\n",
      "- `NewProcessName`\n",
      "- `ParentProcessName`\n",
      "- `Time`\n",
      "- `PID`\n",
      "- `ParentPID`\n",
      "\n",
      "Sources:\n",
      "- MSTICpy documentation on process trees: [https://msticpy.readthedocs.io](https://msticpy.readthedocs.io)\n",
      "\n",
      "--------------------------------------------------------------------------------\n"
     ]
    }
   ],
   "source": [
    "%%ask \n",
    "Which columns do I need in a dataframe to plot process trees?"
   ]
  },
  {
   "cell_type": "code",
   "execution_count": 63,
   "metadata": {},
   "outputs": [
    {
     "name": "stdout",
     "output_type": "stream",
     "text": [
      "Question: What kind of visualizations does msticpy support?\n",
      "\n",
      "VectorDB returns doc_ids:  [['940f3fed', 'ca23677c', 'd1dc0cca', '352664f0', 'ff457565', '7369ffc2', 'b7e667f7', 'f81cfa86', 'c5da864a', 'b11173f3', 'f9caf665', '094373af', '4145947c', '5edde4d1', 'cbcd76c1', 'd7ae86da', '808aa8bb', 'cef15b90', '5164cf09', 'fba58523']]\n",
      "\u001b[32mAdding content of doc 940f3fed to context.\u001b[0m\n",
      "\u001b[32mAdding content of doc ca23677c to context.\u001b[0m\n",
      "\u001b[32mAdding content of doc d1dc0cca to context.\u001b[0m\n",
      "\u001b[32mAdding content of doc 352664f0 to context.\u001b[0m\n",
      "\u001b[32mAdding content of doc ff457565 to context.\u001b[0m\n",
      "\u001b[32mAdding content of doc 7369ffc2 to context.\u001b[0m\n",
      "\u001b[32mAdding content of doc b7e667f7 to context.\u001b[0m\n",
      "\u001b[32mAdding content of doc f81cfa86 to context.\u001b[0m\n",
      "\u001b[33mragproxyagent\u001b[0m (to assistant):\n",
      "\n",
      "You're a retrieve augmented chatbot for MSTICpy. \n",
      "        You answer user's questions based on your own knowledge and the context provided by the user.\n",
      "        If you can't answer the question with or without the current context, you should reply exactly \n",
      "        `I am unable to find relevant context to answer your question.`.\n",
      "        You must give as short an answer as possible. Do not output any reasoning. Only return your best response, which may not be the most recent.\n",
      "        Following your best response, list your sources, including file title and hyperlink if available.\n",
      "        Terminate immediately once you have your best response.\n",
      "        Do not allow the ragproxyagent to reply again if not needed.\n",
      "         \n",
      "        User's Question is: What kind of visualizations does msticpy support?\n",
      "\n",
      "\n",
      "--------------------------------------------------------------------------------\n",
      "\u001b[33massistant\u001b[0m (to ragproxyagent):\n",
      "\n",
      "MSTICpy supports a variety of visualizations including time series plots, geo-location plots, entity relationships, process trees, and more.\n",
      "\n",
      "Sources:\n",
      "- MSTICPy Documentation: [Visualization](https://msticpy.readthedocs.io/en/latest/visualization.html)\n",
      "\n",
      "--------------------------------------------------------------------------------\n"
     ]
    }
   ],
   "source": [
    "%%ask \n",
    "What kind of visualizations does msticpy support?"
   ]
  },
  {
   "cell_type": "code",
   "execution_count": 64,
   "metadata": {},
   "outputs": [
    {
     "name": "stdout",
     "output_type": "stream",
     "text": [
      "Question: How do I add a new query for Microsoft 365 Defender to msticpy?\n",
      "\n",
      "VectorDB returns doc_ids:  [['a1c83695', '6aca0fa2', '352664f0', '8dabd0c4', 'c4f51c29', 'a97d6fd2', 'f81cfa86', 'b77aab4e', '940f3fed', 'c7336e3f', '050704f6', '71b249fe', 'b7e667f7', 'c582d466', 'd1dc0cca', '5164cf09', '876052d7', 'bcf92e5b', 'a015137a', 'ba9edd69']]\n",
      "\u001b[32mAdding content of doc a1c83695 to context.\u001b[0m\n",
      "\u001b[33mragproxyagent\u001b[0m (to assistant):\n",
      "\n",
      "You're a retrieve augmented chatbot for MSTICpy. \n",
      "        You answer user's questions based on your own knowledge and the context provided by the user.\n",
      "        If you can't answer the question with or without the current context, you should reply exactly \n",
      "        `I am unable to find relevant context to answer your question.`.\n",
      "        You must give as short an answer as possible. Do not output any reasoning. Only return your best response, which may not be the most recent.\n",
      "        Following your best response, list your sources, including file title and hyperlink if available.\n",
      "        Terminate immediately once you have your best response.\n",
      "        Do not allow the ragproxyagent to reply again if not needed.\n",
      "         \n",
      "        User's Question is: How do I add a new query for Microsoft 365 Defender to msticpy?\n",
      "\n",
      "\n",
      "--------------------------------------------------------------------------------\n",
      "\u001b[33massistant\u001b[0m (to ragproxyagent):\n",
      "\n",
      "To add a new query for Microsoft 365 Defender to MSTICpy, you can create a custom query and add it to your MSTICpy configuration file (`msticpyconfig.yaml`). \n",
      "\n",
      "Sources:\n",
      "- [MSTICpy Configuration Documentation](https://msticpy.readthedocs.io/en/latest/data_acquisition/QueryTimeExpr.html#queries-in-msticpyconfig-yaml)\n",
      "- [MSTICpy GitHub Repository](https://github.com/microsoft/msticpy)\n",
      "\n",
      "--------------------------------------------------------------------------------\n"
     ]
    }
   ],
   "source": [
    "%%ask \n",
    "How do I add a new query for Microsoft 365 Defender to msticpy?"
   ]
  },
  {
   "cell_type": "code",
   "execution_count": 65,
   "metadata": {},
   "outputs": [
    {
     "name": "stdout",
     "output_type": "stream",
     "text": [
      "Question: Which msticpy module contains the code related to visualizing network graphs?\n",
      "\n",
      "VectorDB returns doc_ids:  [['19724244', '5edde4d1', '808aa8bb', 'f42ab95f', '94665ddc', 'f634508c', '59f24e4d', '8dabd0c4', '9fa07157', '352664f0', 'bf80766e', 'b96a5b2f', '6589dc3b', '4145947c', '37f04ccd', '940f3fed', 'ddb98f2d', 'd1dc0cca', '7369ffc2', '094373af']]\n",
      "\u001b[32mAdding content of doc 19724244 to context.\u001b[0m\n",
      "\u001b[32mAdding content of doc 5edde4d1 to context.\u001b[0m\n"
     ]
    },
    {
     "name": "stdout",
     "output_type": "stream",
     "text": [
      "\u001b[32mAdding content of doc 808aa8bb to context.\u001b[0m\n",
      "\u001b[32mAdding content of doc f42ab95f to context.\u001b[0m\n",
      "\u001b[32mAdding content of doc 94665ddc to context.\u001b[0m\n",
      "\u001b[32mAdding content of doc f634508c to context.\u001b[0m\n",
      "\u001b[32mAdding content of doc 59f24e4d to context.\u001b[0m\n",
      "\u001b[32mAdding content of doc 8dabd0c4 to context.\u001b[0m\n",
      "\u001b[32mAdding content of doc 9fa07157 to context.\u001b[0m\n",
      "\u001b[32mAdding content of doc 352664f0 to context.\u001b[0m\n",
      "\u001b[32mAdding content of doc bf80766e to context.\u001b[0m\n",
      "\u001b[32mAdding content of doc b96a5b2f to context.\u001b[0m\n",
      "\u001b[32mAdding content of doc 6589dc3b to context.\u001b[0m\n",
      "\u001b[32mAdding content of doc 4145947c to context.\u001b[0m\n",
      "\u001b[32mAdding content of doc 37f04ccd to context.\u001b[0m\n",
      "\u001b[33mragproxyagent\u001b[0m (to assistant):\n",
      "\n",
      "You're a retrieve augmented chatbot for MSTICpy. \n",
      "        You answer user's questions based on your own knowledge and the context provided by the user.\n",
      "        If you can't answer the question with or without the current context, you should reply exactly \n",
      "        `I am unable to find relevant context to answer your question.`.\n",
      "        You must give as short an answer as possible. Do not output any reasoning. Only return your best response, which may not be the most recent.\n",
      "        Following your best response, list your sources, including file title and hyperlink if available.\n",
      "        Terminate immediately once you have your best response.\n",
      "        Do not allow the ragproxyagent to reply again if not needed.\n",
      "         \n",
      "        User's Question is: Which msticpy module contains the code related to visualizing network graphs?\n",
      "\n",
      "\n",
      "--------------------------------------------------------------------------------\n",
      "\u001b[33massistant\u001b[0m (to ragproxyagent):\n",
      "\n",
      "The `msticpy.vis.graph` module contains the code related to visualizing network graphs.\n",
      "\n",
      "Source: [MSTICPy Documentation](https://msticpy.readthedocs.io/en/latest/visualization/Graph.html)\n",
      "\n",
      "--------------------------------------------------------------------------------\n"
     ]
    }
   ],
   "source": [
    "%%ask\n",
    "Which msticpy module contains the code related to visualizing network graphs?"
   ]
  }
 ],
 "metadata": {
  "kernelspec": {
   "display_name": "internshipenv",
   "language": "python",
   "name": "python3"
  },
  "language_info": {
   "codemirror_mode": {
    "name": "ipython",
    "version": 3
   },
   "file_extension": ".py",
   "mimetype": "text/x-python",
   "name": "python",
   "nbconvert_exporter": "python",
   "pygments_lexer": "ipython3",
   "version": "3.10.14"
  }
 },
 "nbformat": 4,
 "nbformat_minor": 2
}
