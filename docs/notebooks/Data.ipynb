{
 "cells": [
  {
   "cell_type": "markdown",
   "metadata": {},
   "source": [
    "# Title: msticpy - Data\n",
    "## Description:\n",
    "This package provides functions to allow for the defining of data sources, connectors to them, and queries for them as well as the ability to call these elements to return query result from the defined data sources.\n",
    "The package currently support connections to Log Analytics/Azure Sentinel/Azure Security Center, and the Microsoft Security Graph."
   ]
  },
  {
   "cell_type": "markdown",
   "metadata": {},
   "source": [
    "The first step in using this package is to install the msticpy package."
   ]
  },
  {
   "cell_type": "code",
   "execution_count": 26,
   "metadata": {},
   "outputs": [
    {
     "name": "stdout",
     "output_type": "stream",
     "text": [
      "Collecting git+https://github.com/microsoft/msticpy@pebryanDataLibraryReview\n",
      "  Cloning https://github.com/microsoft/msticpy (to revision pebryanDataLibraryReview) to c:\\users\\pebryan\\appdata\\local\\temp\\pip-req-build-ijwtjk1f\n",
      "Branch 'pebryanDataLibraryReview' set up to track remote branch 'pebryanDataLibraryReview' from 'origin'.\n",
      "Switched to a new branch 'pebryanDataLibraryReview'\n",
      "Requirement already satisfied, skipping upgrade: matplotlib>=3.0.0 in c:\\users\\pebryan\\appdata\\roaming\\python\\python37\\site-packages (from msticpy==0.1.9) (3.1.0)\n",
      "Requirement already satisfied, skipping upgrade: bokeh>=1.0.2 in c:\\users\\pebryan\\appdata\\roaming\\python\\python37\\site-packages (from msticpy==0.1.9) (1.2.0)\n",
      "Requirement already satisfied, skipping upgrade: setuptools>=40.6.2 in c:\\users\\pebryan\\appdata\\roaming\\python\\python37\\site-packages (from msticpy==0.1.9) (41.0.1)\n",
      "Requirement already satisfied, skipping upgrade: attrs>=18.2.0 in c:\\users\\pebryan\\appdata\\roaming\\python\\python37\\site-packages (from msticpy==0.1.9) (19.1.0)\n",
      "Requirement already satisfied, skipping upgrade: pandas>=0.23.0 in c:\\users\\pebryan\\appdata\\roaming\\python\\python37\\site-packages (from msticpy==0.1.9) (0.24.2)\n",
      "Requirement already satisfied, skipping upgrade: requests>=2.20.1 in c:\\users\\pebryan\\appdata\\roaming\\python\\python37\\site-packages (from msticpy==0.1.9) (2.22.0)\n",
      "Requirement already satisfied, skipping upgrade: networkx>=2.2 in c:\\users\\pebryan\\appdata\\roaming\\python\\python37\\site-packages (from msticpy==0.1.9) (2.3)\n",
      "Requirement already satisfied, skipping upgrade: numpy>=1.12.0 in c:\\users\\pebryan\\appdata\\roaming\\python\\python37\\site-packages (from msticpy==0.1.9) (1.16.4)\n",
      "Requirement already satisfied, skipping upgrade: urllib3>=1.24.0 in c:\\users\\pebryan\\appdata\\roaming\\python\\python37\\site-packages (from msticpy==0.1.9) (1.25.3)\n",
      "Requirement already satisfied, skipping upgrade: ipywidgets>=7.4.2 in c:\\users\\pebryan\\appdata\\roaming\\python\\python37\\site-packages (from msticpy==0.1.9) (7.4.2)\n",
      "Requirement already satisfied, skipping upgrade: ipython>=7.1.1 in c:\\users\\pebryan\\appdata\\roaming\\python\\python37\\site-packages (from msticpy==0.1.9) (7.5.0)\n",
      "Requirement already satisfied, skipping upgrade: Kqlmagic>=0.1.90 in c:\\users\\pebryan\\appdata\\roaming\\python\\python37\\site-packages (from msticpy==0.1.9) (0.1.99)\n",
      "Requirement already satisfied, skipping upgrade: scikit_learn>=0.20.2 in c:\\users\\pebryan\\appdata\\roaming\\python\\python37\\site-packages (from msticpy==0.1.9) (0.21.2)\n",
      "Requirement already satisfied, skipping upgrade: maxminddb_geolite2>=2018.0 in c:\\users\\pebryan\\appdata\\roaming\\python\\python37\\site-packages (from msticpy==0.1.9) (2018.703)\n",
      "Requirement already satisfied, skipping upgrade: typing>=3.6.6 in c:\\users\\pebryan\\appdata\\roaming\\python\\python37\\site-packages (from msticpy==0.1.9) (3.7.4)\n",
      "Requirement already satisfied, skipping upgrade: cycler>=0.10 in c:\\users\\pebryan\\appdata\\roaming\\python\\python37\\site-packages (from matplotlib>=3.0.0->msticpy==0.1.9) (0.10.0)\n",
      "Requirement already satisfied, skipping upgrade: python-dateutil>=2.1 in c:\\users\\pebryan\\appdata\\roaming\\python\\python37\\site-packages (from matplotlib>=3.0.0->msticpy==0.1.9) (2.8.0)\n",
      "Requirement already satisfied, skipping upgrade: kiwisolver>=1.0.1 in c:\\users\\pebryan\\appdata\\roaming\\python\\python37\\site-packages (from matplotlib>=3.0.0->msticpy==0.1.9) (1.1.0)\n",
      "Requirement already satisfied, skipping upgrade: pyparsing!=2.0.4,!=2.1.2,!=2.1.6,>=2.0.1 in c:\\users\\pebryan\\appdata\\roaming\\python\\python37\\site-packages (from matplotlib>=3.0.0->msticpy==0.1.9) (2.4.0)\n",
      "Requirement already satisfied, skipping upgrade: PyYAML>=3.10 in c:\\users\\pebryan\\appdata\\roaming\\python\\python37\\site-packages (from bokeh>=1.0.2->msticpy==0.1.9) (5.1.1)\n",
      "Requirement already satisfied, skipping upgrade: packaging>=16.8 in c:\\users\\pebryan\\appdata\\roaming\\python\\python37\\site-packages (from bokeh>=1.0.2->msticpy==0.1.9) (19.0)\n",
      "Requirement already satisfied, skipping upgrade: pillow>=4.0 in c:\\users\\pebryan\\appdata\\roaming\\python\\python37\\site-packages (from bokeh>=1.0.2->msticpy==0.1.9) (6.0.0)\n",
      "Requirement already satisfied, skipping upgrade: six>=1.5.2 in c:\\users\\pebryan\\appdata\\roaming\\python\\python37\\site-packages (from bokeh>=1.0.2->msticpy==0.1.9) (1.12.0)\n",
      "Requirement already satisfied, skipping upgrade: Jinja2>=2.7 in c:\\users\\pebryan\\appdata\\roaming\\python\\python37\\site-packages (from bokeh>=1.0.2->msticpy==0.1.9) (2.10.1)\n",
      "Requirement already satisfied, skipping upgrade: tornado>=4.3 in c:\\users\\pebryan\\appdata\\roaming\\python\\python37\\site-packages (from bokeh>=1.0.2->msticpy==0.1.9) (6.0.3)\n",
      "Requirement already satisfied, skipping upgrade: pytz>=2011k in c:\\users\\pebryan\\appdata\\roaming\\python\\python37\\site-packages (from pandas>=0.23.0->msticpy==0.1.9) (2019.1)\n",
      "Requirement already satisfied, skipping upgrade: certifi>=2017.4.17 in c:\\users\\pebryan\\appdata\\roaming\\python\\python37\\site-packages (from requests>=2.20.1->msticpy==0.1.9) (2019.6.16)\n",
      "Requirement already satisfied, skipping upgrade: idna<2.9,>=2.5 in c:\\users\\pebryan\\appdata\\roaming\\python\\python37\\site-packages (from requests>=2.20.1->msticpy==0.1.9) (2.8)\n",
      "Requirement already satisfied, skipping upgrade: chardet<3.1.0,>=3.0.2 in c:\\users\\pebryan\\appdata\\roaming\\python\\python37\\site-packages (from requests>=2.20.1->msticpy==0.1.9) (3.0.4)\n",
      "Requirement already satisfied, skipping upgrade: decorator>=4.3.0 in c:\\users\\pebryan\\appdata\\roaming\\python\\python37\\site-packages (from networkx>=2.2->msticpy==0.1.9) (4.4.0)\n",
      "Requirement already satisfied, skipping upgrade: nbformat>=4.2.0 in c:\\users\\pebryan\\appdata\\roaming\\python\\python37\\site-packages (from ipywidgets>=7.4.2->msticpy==0.1.9) (4.4.0)\n",
      "Requirement already satisfied, skipping upgrade: ipykernel>=4.5.1 in c:\\users\\pebryan\\appdata\\roaming\\python\\python37\\site-packages (from ipywidgets>=7.4.2->msticpy==0.1.9) (5.1.1)\n",
      "Requirement already satisfied, skipping upgrade: traitlets>=4.3.1 in c:\\users\\pebryan\\appdata\\roaming\\python\\python37\\site-packages (from ipywidgets>=7.4.2->msticpy==0.1.9) (4.3.2)\n",
      "Requirement already satisfied, skipping upgrade: widgetsnbextension~=3.4.0 in c:\\users\\pebryan\\appdata\\roaming\\python\\python37\\site-packages (from ipywidgets>=7.4.2->msticpy==0.1.9) (3.4.2)\n",
      "Requirement already satisfied, skipping upgrade: colorama; sys_platform == \"win32\" in c:\\users\\pebryan\\appdata\\roaming\\python\\python37\\site-packages (from ipython>=7.1.1->msticpy==0.1.9) (0.4.1)\n",
      "Requirement already satisfied, skipping upgrade: jedi>=0.10 in c:\\users\\pebryan\\appdata\\roaming\\python\\python37\\site-packages (from ipython>=7.1.1->msticpy==0.1.9) (0.14.0)\n",
      "Requirement already satisfied, skipping upgrade: pickleshare in c:\\users\\pebryan\\appdata\\roaming\\python\\python37\\site-packages (from ipython>=7.1.1->msticpy==0.1.9) (0.7.5)\n",
      "Requirement already satisfied, skipping upgrade: pygments in c:\\users\\pebryan\\appdata\\roaming\\python\\python37\\site-packages (from ipython>=7.1.1->msticpy==0.1.9) (2.4.2)\n",
      "Requirement already satisfied, skipping upgrade: backcall in c:\\users\\pebryan\\appdata\\roaming\\python\\python37\\site-packages (from ipython>=7.1.1->msticpy==0.1.9) (0.1.0)\n",
      "Requirement already satisfied, skipping upgrade: prompt-toolkit<2.1.0,>=2.0.0 in c:\\users\\pebryan\\appdata\\roaming\\python\\python37\\site-packages (from ipython>=7.1.1->msticpy==0.1.9) (2.0.9)\n",
      "Requirement already satisfied, skipping upgrade: lxml>=4.2.5 in c:\\users\\pebryan\\appdata\\local\\continuum\\anaconda3\\envs\\notebookdev\\lib\\site-packages (from Kqlmagic>=0.1.90->msticpy==0.1.9) (4.3.2)\n",
      "Requirement already satisfied, skipping upgrade: prettytable>=0.7.2 in c:\\users\\pebryan\\appdata\\roaming\\python\\python37\\site-packages (from Kqlmagic>=0.1.90->msticpy==0.1.9) (0.7.2)\n",
      "Requirement already satisfied, skipping upgrade: beautifulsoup4>=4.6.3 in c:\\users\\pebryan\\appdata\\local\\continuum\\anaconda3\\envs\\notebookdev\\lib\\site-packages (from Kqlmagic>=0.1.90->msticpy==0.1.9) (4.7.1)\n",
      "Requirement already satisfied, skipping upgrade: adal>=1.2.1 in c:\\users\\pebryan\\appdata\\roaming\\python\\python37\\site-packages (from Kqlmagic>=0.1.90->msticpy==0.1.9) (1.2.1)\n",
      "Requirement already satisfied, skipping upgrade: seaborn>=0.9.0 in c:\\users\\pebryan\\appdata\\local\\continuum\\anaconda3\\envs\\notebookdev\\lib\\site-packages (from Kqlmagic>=0.1.90->msticpy==0.1.9) (0.9.0)\n",
      "Requirement already satisfied, skipping upgrade: psutil>=5.4.7 in c:\\users\\pebryan\\appdata\\local\\continuum\\anaconda3\\envs\\notebookdev\\lib\\site-packages (from Kqlmagic>=0.1.90->msticpy==0.1.9) (5.6.1)\n",
      "Requirement already satisfied, skipping upgrade: Markdown>=3.0.1 in c:\\users\\pebryan\\appdata\\roaming\\python\\python37\\site-packages (from Kqlmagic>=0.1.90->msticpy==0.1.9) (3.1.1)\n",
      "Requirement already satisfied, skipping upgrade: plotly>=3.8.1 in c:\\users\\pebryan\\appdata\\roaming\\python\\python37\\site-packages (from Kqlmagic>=0.1.90->msticpy==0.1.9) (3.9.0)\n",
      "Requirement already satisfied, skipping upgrade: scipy>=0.17.0 in c:\\users\\pebryan\\appdata\\roaming\\python\\python37\\site-packages (from scikit_learn>=0.20.2->msticpy==0.1.9) (1.3.0)\n",
      "Requirement already satisfied, skipping upgrade: joblib>=0.11 in c:\\users\\pebryan\\appdata\\roaming\\python\\python37\\site-packages (from scikit_learn>=0.20.2->msticpy==0.1.9) (0.13.2)\n",
      "Requirement already satisfied, skipping upgrade: maxminddb in c:\\users\\pebryan\\appdata\\roaming\\python\\python37\\site-packages (from maxminddb_geolite2>=2018.0->msticpy==0.1.9) (1.4.1)\n",
      "Requirement already satisfied, skipping upgrade: MarkupSafe>=0.23 in c:\\users\\pebryan\\appdata\\roaming\\python\\python37\\site-packages (from Jinja2>=2.7->bokeh>=1.0.2->msticpy==0.1.9) (1.1.1)\n",
      "Requirement already satisfied, skipping upgrade: ipython-genutils in c:\\users\\pebryan\\appdata\\roaming\\python\\python37\\site-packages (from nbformat>=4.2.0->ipywidgets>=7.4.2->msticpy==0.1.9) (0.2.0)\n",
      "Requirement already satisfied, skipping upgrade: jupyter-core in c:\\users\\pebryan\\appdata\\roaming\\python\\python37\\site-packages (from nbformat>=4.2.0->ipywidgets>=7.4.2->msticpy==0.1.9) (4.5.0)\n",
      "Requirement already satisfied, skipping upgrade: jsonschema!=2.5.0,>=2.4 in c:\\users\\pebryan\\appdata\\roaming\\python\\python37\\site-packages (from nbformat>=4.2.0->ipywidgets>=7.4.2->msticpy==0.1.9) (3.0.1)\n",
      "Requirement already satisfied, skipping upgrade: jupyter-client in c:\\users\\pebryan\\appdata\\roaming\\python\\python37\\site-packages (from ipykernel>=4.5.1->ipywidgets>=7.4.2->msticpy==0.1.9) (5.2.4)\n",
      "Requirement already satisfied, skipping upgrade: notebook>=4.4.1 in c:\\users\\pebryan\\appdata\\roaming\\python\\python37\\site-packages (from widgetsnbextension~=3.4.0->ipywidgets>=7.4.2->msticpy==0.1.9) (5.7.8)\n",
      "Requirement already satisfied, skipping upgrade: parso>=0.3.0 in c:\\users\\pebryan\\appdata\\roaming\\python\\python37\\site-packages (from jedi>=0.10->ipython>=7.1.1->msticpy==0.1.9) (0.5.0)\n",
      "Requirement already satisfied, skipping upgrade: wcwidth in c:\\users\\pebryan\\appdata\\roaming\\python\\python37\\site-packages (from prompt-toolkit<2.1.0,>=2.0.0->ipython>=7.1.1->msticpy==0.1.9) (0.1.7)\n",
      "Requirement already satisfied, skipping upgrade: soupsieve>=1.2 in c:\\users\\pebryan\\appdata\\local\\continuum\\anaconda3\\envs\\notebookdev\\lib\\site-packages (from beautifulsoup4>=4.6.3->Kqlmagic>=0.1.90->msticpy==0.1.9) (1.8)\n",
      "Requirement already satisfied, skipping upgrade: cryptography>=1.1.0 in c:\\users\\pebryan\\appdata\\local\\continuum\\anaconda3\\envs\\notebookdev\\lib\\site-packages (from adal>=1.2.1->Kqlmagic>=0.1.90->msticpy==0.1.9) (2.6.1)\n",
      "Requirement already satisfied, skipping upgrade: PyJWT>=1.0.0 in c:\\users\\pebryan\\appdata\\roaming\\python\\python37\\site-packages (from adal>=1.2.1->Kqlmagic>=0.1.90->msticpy==0.1.9) (1.7.1)\n",
      "Requirement already satisfied, skipping upgrade: retrying>=1.3.3 in c:\\users\\pebryan\\appdata\\roaming\\python\\python37\\site-packages (from plotly>=3.8.1->Kqlmagic>=0.1.90->msticpy==0.1.9) (1.3.3)\n",
      "Requirement already satisfied, skipping upgrade: pyrsistent>=0.14.0 in c:\\users\\pebryan\\appdata\\roaming\\python\\python37\\site-packages (from jsonschema!=2.5.0,>=2.4->nbformat>=4.2.0->ipywidgets>=7.4.2->msticpy==0.1.9) (0.15.2)\n",
      "Requirement already satisfied, skipping upgrade: pyzmq>=13 in c:\\users\\pebryan\\appdata\\roaming\\python\\python37\\site-packages (from jupyter-client->ipykernel>=4.5.1->ipywidgets>=7.4.2->msticpy==0.1.9) (18.0.1)\n",
      "Requirement already satisfied, skipping upgrade: prometheus-client in c:\\users\\pebryan\\appdata\\roaming\\python\\python37\\site-packages (from notebook>=4.4.1->widgetsnbextension~=3.4.0->ipywidgets>=7.4.2->msticpy==0.1.9) (0.7.1)\n",
      "Requirement already satisfied, skipping upgrade: nbconvert in c:\\users\\pebryan\\appdata\\roaming\\python\\python37\\site-packages (from notebook>=4.4.1->widgetsnbextension~=3.4.0->ipywidgets>=7.4.2->msticpy==0.1.9) (5.5.0)\n",
      "Requirement already satisfied, skipping upgrade: Send2Trash in c:\\users\\pebryan\\appdata\\roaming\\python\\python37\\site-packages (from notebook>=4.4.1->widgetsnbextension~=3.4.0->ipywidgets>=7.4.2->msticpy==0.1.9) (1.5.0)\n",
      "Requirement already satisfied, skipping upgrade: terminado>=0.8.1 in c:\\users\\pebryan\\appdata\\roaming\\python\\python37\\site-packages (from notebook>=4.4.1->widgetsnbextension~=3.4.0->ipywidgets>=7.4.2->msticpy==0.1.9) (0.8.2)\n",
      "Requirement already satisfied, skipping upgrade: cffi!=1.11.3,>=1.8 in c:\\users\\pebryan\\appdata\\local\\continuum\\anaconda3\\envs\\notebookdev\\lib\\site-packages (from cryptography>=1.1.0->adal>=1.2.1->Kqlmagic>=0.1.90->msticpy==0.1.9) (1.12.2)\n",
      "Requirement already satisfied, skipping upgrade: asn1crypto>=0.21.0 in c:\\users\\pebryan\\appdata\\local\\continuum\\anaconda3\\envs\\notebookdev\\lib\\site-packages (from cryptography>=1.1.0->adal>=1.2.1->Kqlmagic>=0.1.90->msticpy==0.1.9) (0.24.0)\n",
      "Requirement already satisfied, skipping upgrade: bleach in c:\\users\\pebryan\\appdata\\roaming\\python\\python37\\site-packages (from nbconvert->notebook>=4.4.1->widgetsnbextension~=3.4.0->ipywidgets>=7.4.2->msticpy==0.1.9) (3.1.0)\n",
      "Requirement already satisfied, skipping upgrade: entrypoints>=0.2.2 in c:\\users\\pebryan\\appdata\\roaming\\python\\python37\\site-packages (from nbconvert->notebook>=4.4.1->widgetsnbextension~=3.4.0->ipywidgets>=7.4.2->msticpy==0.1.9) (0.3)\n",
      "Requirement already satisfied, skipping upgrade: testpath in c:\\users\\pebryan\\appdata\\roaming\\python\\python37\\site-packages (from nbconvert->notebook>=4.4.1->widgetsnbextension~=3.4.0->ipywidgets>=7.4.2->msticpy==0.1.9) (0.4.2)\n",
      "Requirement already satisfied, skipping upgrade: pandocfilters>=1.4.1 in c:\\users\\pebryan\\appdata\\roaming\\python\\python37\\site-packages (from nbconvert->notebook>=4.4.1->widgetsnbextension~=3.4.0->ipywidgets>=7.4.2->msticpy==0.1.9) (1.4.2)\n",
      "Requirement already satisfied, skipping upgrade: mistune>=0.8.1 in c:\\users\\pebryan\\appdata\\roaming\\python\\python37\\site-packages (from nbconvert->notebook>=4.4.1->widgetsnbextension~=3.4.0->ipywidgets>=7.4.2->msticpy==0.1.9) (0.8.4)\n",
      "Requirement already satisfied, skipping upgrade: defusedxml in c:\\users\\pebryan\\appdata\\roaming\\python\\python37\\site-packages (from nbconvert->notebook>=4.4.1->widgetsnbextension~=3.4.0->ipywidgets>=7.4.2->msticpy==0.1.9) (0.6.0)\n",
      "Requirement already satisfied, skipping upgrade: pywinpty>=0.5; os_name == \"nt\" in c:\\users\\pebryan\\appdata\\roaming\\python\\python37\\site-packages (from terminado>=0.8.1->notebook>=4.4.1->widgetsnbextension~=3.4.0->ipywidgets>=7.4.2->msticpy==0.1.9) (0.5.5)\n",
      "Requirement already satisfied, skipping upgrade: pycparser in c:\\users\\pebryan\\appdata\\local\\continuum\\anaconda3\\envs\\notebookdev\\lib\\site-packages (from cffi!=1.11.3,>=1.8->cryptography>=1.1.0->adal>=1.2.1->Kqlmagic>=0.1.90->msticpy==0.1.9) (2.19)\n",
      "Requirement already satisfied, skipping upgrade: webencodings in c:\\users\\pebryan\\appdata\\roaming\\python\\python37\\site-packages (from bleach->nbconvert->notebook>=4.4.1->widgetsnbextension~=3.4.0->ipywidgets>=7.4.2->msticpy==0.1.9) (0.5.1)\n",
      "Building wheels for collected packages: msticpy\n",
      "  Building wheel for msticpy (setup.py): started\n",
      "  Building wheel for msticpy (setup.py): finished with status 'done'\n",
      "  Stored in directory: C:\\Users\\pebryan\\AppData\\Local\\Temp\\pip-ephem-wheel-cache-ixnicz2v\\wheels\\56\\ce\\f6\\b5ccc88bc3a7e818cd459a0c6c09c6905c1006f263f15f2b15\n",
      "Successfully built msticpy\n",
      "Installing collected packages: msticpy\n",
      "  Found existing installation: msticpy 0.1.9\n",
      "    Uninstalling msticpy-0.1.9:\n",
      "      Successfully uninstalled msticpy-0.1.9\n",
      "Successfully installed msticpy-0.1.9\n"
     ]
    }
   ],
   "source": [
    "!pip install git+https://github.com/microsoft/msticpy@pebryanDataLibraryReview --upgrade --user"
   ]
  },
  {
   "cell_type": "markdown",
   "metadata": {},
   "source": [
    "<a id='contents'></a>\n",
    "## Table of Contents\n",
    "- [Instanciating a Query Provider](#instnciating)\n",
    "- [Connecting to a Data Environment](#connecting)\n",
    "- [Reviewing avaliable queries](#review_queries)\n",
    "- [Running a pre-defined query](#run_query)\n",
    "- [Running an ad-hoc query](#run_adhoc)\n",
    "- [Creating a new set of queries](#new)\n",
    "- [Adding a new set of queries and running them](#add_new)"
   ]
  },
  {
   "cell_type": "code",
   "execution_count": 1,
   "metadata": {},
   "outputs": [
    {
     "data": {
      "text/html": [
       "\n",
       "    <script>\n",
       "    function code_toggle() {\n",
       "        if ($('div.cell.code_cell.rendered.selected div.input').css('display')!='none'){\n",
       "            $('div.cell.code_cell.rendered.selected div.input').hide();\n",
       "        } else {\n",
       "            $('div.cell.code_cell.rendered.selected div.input').show();\n",
       "        }\n",
       "    }\n",
       "    </script>\n",
       "\n"
      ],
      "text/plain": [
       "<IPython.core.display.HTML object>"
      ]
     },
     "metadata": {},
     "output_type": "display_data"
    },
    {
     "name": "stdout",
     "output_type": "stream",
     "text": [
      "Imports Complete\n"
     ]
    }
   ],
   "source": [
    "#Check we are running Python 3.6\n",
    "import sys\n",
    "MIN_REQ_PYTHON = (3,6)\n",
    "if sys.version_info < MIN_REQ_PYTHON:\n",
    "    print('Check the Kernel->Change Kernel menu and ensure that Python 3.6')\n",
    "    print('or later is selected as the active kernel.')\n",
    "    sys.exit(\"Python %s.%s or later is required.\\n\" % MIN_REQ_PYTHON)\n",
    "\n",
    "#imports\n",
    "import yaml\n",
    "import msticpy.nbtools as nbtools\n",
    "\n",
    "#data library imports\n",
    "from msticpy.data.data_providers import QueryProvider\n",
    "import msticpy.data.data_query_reader as QueryReader\n",
    "from msticpy.data.param_extractor import extract_query_params\n",
    "\n",
    "print('Imports Complete')\n"
   ]
  },
  {
   "cell_type": "markdown",
   "metadata": {},
   "source": [
    "<a id='instnciating'></a>\n",
    "### Instanciating a Query Provider\n",
    "In order to connect to and query a data source we need to define 2 main things.\n",
    "1. What sort of Data Environment we want to connect to and query (in this example it is Log Analytics). The options include:\n",
    "    LogAnalytics - for Connecting to a Log Analytics or Azure Sentinel workspace\n",
    "    AzureSecurityCenter - for Connecting to Azure Security Center\n",
    "    SecurityGraph - for Connecting to the the Microsoft Security Graph\n",
    "    \n",
    "2. The connection string required to connect to each of these data sources. For Log Analytics/Sentinel it is:\n",
    "    loganalytics://code().tenant(\"TENANT ID\").workspace(\"WORKSPACE ID\")\n",
    "    the other providers will have different connection strings.\n",
    "    \n",
    "The first thing we need to do is instanciate a Query Provider for the Data Environment we want to connect to an query. The Query Provider provides a container our queries and and query executions. The query driver and queries loaded will depend on the Data Environment defined when instanciating the Query Provider. The below code instanciates a QueryProvider for Log Analytics which will procede to load the KQL driver.\n",
    "\n",
    "    Query provider interface to queries.\n",
    "\n",
    "        Parameters\n",
    "        ----------\n",
    "        data_environment : Union[str, DataEnvironment]\n",
    "            Name or Enum of environment for the QueryProvider\n",
    "        driver : DriverBase, optional\n",
    "            Override the builtin driver (query execution class)\n",
    "            and use your own driver (must inherit from\n",
    "            `DriverBase`)\n",
    "\n",
    "      "
   ]
  },
  {
   "cell_type": "code",
   "execution_count": 2,
   "metadata": {},
   "outputs": [
    {
     "name": "stdout",
     "output_type": "stream",
     "text": [
      "Please wait. Loading Kqlmagic extension...\n"
     ]
    },
    {
     "data": {
      "text/html": [
       "<html>\n",
       "            <head>\n",
       "            <style>\n",
       "            .kql-magic-banner {\n",
       "                display: flex; \n",
       "                background-color: #d9edf7;\n",
       "            }\n",
       "            .kql-magic-banner > div {\n",
       "                margin: 10px; \n",
       "                padding: 20px; \n",
       "                color: #3a87ad; \n",
       "                font-size: 13px;\n",
       "            }\n",
       "            </style>\n",
       "            </head>\n",
       "            <body>\n",
       "                <div class='kql-magic-banner'>\n",
       "                    <div><img src='data:image/png;base64,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'></div>\n",
       "                    <div>\n",
       "                        <p>Kql Query Language, aka kql, is the query language for advanced analytics on Azure Monitor resources. The current supported data sources are \n",
       "                        Azure Data Explorer (Kusto), Log Analytics and Application Insights. To get more information execute '%kql --help \"kql\"'</p>\n",
       "                        <p>   &bull; kql reference: Click on 'Help' tab > and Select 'kql reference' or execute '%kql --help \"kql\"'<br>\n",
       "                          &bull; Kqlmagic configuration: execute '%config Kqlmagic'<br>\n",
       "                          &bull; Kqlmagic usage: execute '%kql --usage'<br>\n",
       "                    </div>\n",
       "                </div>\n",
       "            </body>\n",
       "            </html>"
      ],
      "text/plain": [
       "<IPython.core.display.HTML object>"
      ]
     },
     "metadata": {},
     "output_type": "display_data"
    },
    {
     "data": {
      "text/html": [
       "<html>\n",
       "        <head>\n",
       "        \n",
       "        </head>\n",
       "        <body>\n",
       "        <div><p style='padding: 10px; color: #3a87ad; background-color: #d9edf7; border-color: #bce9f1'>Kqlmagic&nbsppackage&nbspis&nbspupdated&nbspfrequently.&nbspRun&nbsp&apos;!pip&nbspinstall&nbspKqlmagic&nbsp--no-cache-dir&nbsp--upgrade&apos;&nbspto&nbspuse&nbspthe&nbsplatest&nbspversion.<br>Kqlmagic&nbspversion:&nbsp0.1.99,&nbspsource:&nbsphttps://github.com/Microsoft/jupyter-Kqlmagic</p></div>\n",
       "        </body>\n",
       "        </html>"
      ],
      "text/plain": [
       "<IPython.core.display.HTML object>"
      ]
     },
     "metadata": {},
     "output_type": "display_data"
    },
    {
     "data": {
      "application/javascript": [
       "try {IPython.notebook.kernel.execute(\"NOTEBOOK_URL = '\" + window.location + \"'\");} catch(err) {;}"
      ],
      "text/plain": [
       "<IPython.core.display.Javascript object>"
      ]
     },
     "metadata": {},
     "output_type": "display_data"
    },
    {
     "data": {
      "application/javascript": [
       "try {IPython.notebook.kernel.reconnect();} catch(err) {;}"
      ],
      "text/plain": [
       "<IPython.core.display.Javascript object>"
      ]
     },
     "metadata": {},
     "output_type": "display_data"
    }
   ],
   "source": [
    "qry_prov = QueryProvider('LogAnalytics')"
   ]
  },
  {
   "cell_type": "markdown",
   "metadata": {},
   "source": [
    "<a id='connecting'></a>\n",
    "### Connecting to a Data Environment\n",
    "Once we have instanciated the query provider and loaded the relevent driver we can connect to the Data Environment. This is done by calling the connect function and passing it a connection string to use.\n",
    "For Log Analytics/Azure Sentinel the connection string is int he format of loganalytics://code().tenant(\"TENANT_ID\").workspace(\"WORKSPACE_ID\")\n",
    "\n",
    "    connect(self, connection_str: str, **kwargs):\n",
    "       \n",
    "        Connect to data source.\n",
    "\n",
    "        Parameters\n",
    "        ----------\n",
    "        connection_string : str\n",
    "            Connection string for the data source"
   ]
  },
  {
   "cell_type": "code",
   "execution_count": 3,
   "metadata": {},
   "outputs": [
    {
     "name": "stdin",
     "output_type": "stream",
     "text": [
      "Workspace ID b1315f05-4a7a-45b4-811f-73e715f7c122\n",
      "Tenant ID 72f988bf-86f1-41af-91ab-2d7cd011db47\n"
     ]
    },
    {
     "data": {
      "application/javascript": [
       "try {IPython.notebook.kernel.execute(\"NOTEBOOK_URL = '\" + window.location + \"'\");} catch(err) {;}"
      ],
      "text/plain": [
       "<IPython.core.display.Javascript object>"
      ]
     },
     "metadata": {},
     "output_type": "display_data"
    },
    {
     "data": {
      "text/html": [
       "<!DOCTYPE html>\n",
       "                <html><body>\n",
       "\n",
       "                <!-- h1 id=\"user_code_p\"><b>F8RQ6GVZP</b><br></h1-->\n",
       "\n",
       "                <input  id=\"kql_MagicCodeAuthInput\" type=\"text\" readonly style=\"font-weight: bold; border: none;\" size = '9' value='F8RQ6GVZP'>\n",
       "\n",
       "                <button id='kql_MagicCodeAuth_button', onclick=\"this.style.visibility='hidden';kql_MagicCodeAuthFunction()\">Copy code to clipboard and authenticate</button>\n",
       "\n",
       "                <script>\n",
       "                var kql_MagicUserCodeAuthWindow = null\n",
       "                function kql_MagicCodeAuthFunction() {\n",
       "                    /* Get the text field */\n",
       "                    var copyText = document.getElementById(\"kql_MagicCodeAuthInput\");\n",
       "\n",
       "                    /* Select the text field */\n",
       "                    copyText.select();\n",
       "\n",
       "                    /* Copy the text inside the text field */\n",
       "                    document.execCommand(\"copy\");\n",
       "\n",
       "                    /* Alert the copied text */\n",
       "                    // alert(\"Copied the text: \" + copyText.value);\n",
       "\n",
       "                    var w = screen.width / 2;\n",
       "                    var h = screen.height / 2;\n",
       "                    params = 'width='+w+',height='+h\n",
       "                    kql_MagicUserCodeAuthWindow = window.open('https://microsoft.com/devicelogin', 'kql_MagicUserCodeAuthWindow', params);\n",
       "\n",
       "                    // TODO: save selected cell index, so that the clear will be done on the lince cell\n",
       "                }\n",
       "                </script>\n",
       "\n",
       "                </body></html>"
      ],
      "text/plain": [
       "<IPython.core.display.HTML object>"
      ]
     },
     "metadata": {},
     "output_type": "display_data"
    },
    {
     "data": {
      "text/html": [
       "<!DOCTYPE html>\n",
       "                    <html><body><script>\n",
       "\n",
       "                        // close authentication window\n",
       "                        if (kql_MagicUserCodeAuthWindow && kql_MagicUserCodeAuthWindow.opener != null && !kql_MagicUserCodeAuthWindow.closed) {\n",
       "                            kql_MagicUserCodeAuthWindow.close()\n",
       "                        }\n",
       "                        // TODO: make sure, you clear the right cell. BTW, not sure it is a must to do any clearing\n",
       "\n",
       "                        // clear output cell\n",
       "                        Jupyter.notebook.clear_output(Jupyter.notebook.get_selected_index())\n",
       "\n",
       "                        // TODO: if in run all mode, move to last cell, otherwise move to next cell\n",
       "                        // move to next cell\n",
       "\n",
       "                    </script></body></html>"
      ],
      "text/plain": [
       "<IPython.core.display.HTML object>"
      ]
     },
     "metadata": {},
     "output_type": "display_data"
    },
    {
     "data": {
      "text/html": [
       "<!DOCTYPE html>\n",
       "            <html><body>\n",
       "\n",
       "            <button onclick=\"this.style.visibility='visible';kql_MagicLaunchWindowFunction('Kqlmagic_temp_files/_b1315f05-4a7a-45b4-811f-73e715f7c122_at_loganalytics_schema.html','fullscreen=no,directories=no,location=no,menubar=no,resizable=yes,scrollbars=yes,status=no,titlebar=no,toolbar=no,','_b1315f05_4a7a_45b4_811f_73e715f7c122_at_loganalytics_schema','')\">popup schema b1315f05-4a7a-45b4-811f-73e715f7c122@loganalytics</button>\n",
       "\n",
       "            <script>\n",
       "\n",
       "            function kql_MagicLaunchWindowFunction(file_path, window_params, window_name, notebooks_host) {\n",
       "                var url;\n",
       "                if (file_path.startsWith('http')) {\n",
       "                    url = file_path;\n",
       "                } else {\n",
       "                    var base_url = '';\n",
       "\n",
       "                    // check if azure notebook\n",
       "                    var azure_host = (notebooks_host == null || notebooks_host.length == 0) ? 'https://notebooks.azure.com' : notebooks_host;\n",
       "                    var start = azure_host.search('//');\n",
       "                    var azure_host_suffix = '.' + azure_host.substring(start+2);\n",
       "\n",
       "                    var loc = String(window.location);\n",
       "                    var end = loc.search(azure_host_suffix);\n",
       "                    start = loc.search('//');\n",
       "                    if (start > 0 && end > 0) {\n",
       "                        var parts = loc.substring(start+2, end).split('-');\n",
       "                        if (parts.length == 2) {\n",
       "                            var library = parts[0];\n",
       "                            var user = parts[1];\n",
       "                            base_url = azure_host + '/api/user/' +user+ '/library/' +library+ '/html/';\n",
       "                        }\n",
       "                    }\n",
       "\n",
       "                    // check if local jupyter lab\n",
       "                    if (base_url.length == 0) {\n",
       "                        var configDataScipt  = document.getElementById('jupyter-config-data');\n",
       "                        if (configDataScipt != null) {\n",
       "                            var jupyterConfigData = JSON.parse(configDataScipt.textContent);\n",
       "                            if (jupyterConfigData['appName'] == 'JupyterLab' && jupyterConfigData['serverRoot'] != null &&  jupyterConfigData['treeUrl'] != null) {\n",
       "                                var basePath = 'C:/Users/pebryan/OneDrive_-_Microsoft/MSTIC/working/Notebooks' + '/';\n",
       "                                if (basePath.startsWith(jupyterConfigData['serverRoot'])) {\n",
       "                                    base_url = '/files/' + basePath.substring(jupyterConfigData['serverRoot'].length+1);\n",
       "                                }\n",
       "                            } \n",
       "                        }\n",
       "                    }\n",
       "\n",
       "                    // assume local jupyter notebook\n",
       "                    if (base_url.length == 0) {\n",
       "\n",
       "                        var parts = loc.split('/');\n",
       "                        parts.pop();\n",
       "                        base_url = parts.join('/') + '/';\n",
       "                    }\n",
       "                    url = base_url + file_path;\n",
       "                }\n",
       "\n",
       "                window.focus();\n",
       "                var w = screen.width / 2;\n",
       "                var h = screen.height / 2;\n",
       "                params = 'width='+w+',height='+h;\n",
       "                kql_Magic__b1315f05_4a7a_45b4_811f_73e715f7c122_at_loganalytics_schema = window.open(url, window_name, window_params + params);\n",
       "            }\n",
       "            </script>\n",
       "\n",
       "            </body></html>"
      ],
      "text/plain": [
       "<IPython.core.display.HTML object>"
      ]
     },
     "metadata": {},
     "output_type": "display_data"
    }
   ],
   "source": [
    "ws_id = input('Workspace ID')\n",
    "ten_id = input('Tenant ID')\n",
    "la_connection_string = f'loganalytics://code().tenant(\"{ten_id}\").workspace(\"{ws_id}\")'\n",
    "qry_prov.connect(connection_str=f'{la_connection_string}')"
   ]
  },
  {
   "cell_type": "markdown",
   "metadata": {},
   "source": [
    "<a id='review_queries'></a>\n",
    "### Reviewing avaliable queries\n",
    "Once we have connected to the relevent Data Environment we need to look at what query options we have avaliable to us. In order to so this we can call QUERY_PROVIDER.list_queries(). This will return a generator with the names of all the queries in our store.\n",
    "The results returned show the data family the query belongs to and the name of the specific query.\n",
    "\n",
    "    list_queries(self):\n",
    "        \n",
    "        Return list of family.query in the store.\n",
    "\n",
    "        Returns\n",
    "        -------\n",
    "        Iterable[str]\n",
    "            List of queries\n"
   ]
  },
  {
   "cell_type": "code",
   "execution_count": 4,
   "metadata": {
    "scrolled": true
   },
   "outputs": [
    {
     "name": "stdout",
     "output_type": "stream",
     "text": [
      "SecurityAlert.get_alert\n",
      "SecurityAlert.list_alerts\n",
      "SecurityAlert.list_alerts_counts\n",
      "SecurityAlert.list_alerts_for_ip\n",
      "SecurityAlert.list_related_alerts\n",
      "WindowsSecurity.get_host_logon\n",
      "WindowsSecurity.get_parent_process\n",
      "WindowsSecurity.get_process_tree\n",
      "WindowsSecurity.list_host_logon_failures\n",
      "WindowsSecurity.list_host_logons\n",
      "WindowsSecurity.list_host_processes\n",
      "WindowsSecurity.list_hosts_matching_commandline\n",
      "WindowsSecurity.list_matching_processes\n",
      "WindowsSecurity.list_processes_in_session\n"
     ]
    }
   ],
   "source": [
    "queries = qry_prov.list_queries()\n",
    "for query in queries:\n",
    "    print(query)"
   ]
  },
  {
   "cell_type": "markdown",
   "metadata": {},
   "source": [
    "To get further details on a specific query call QUERY_PROVIDER.DATA_FAMILY.QUERY_NAME('?') or QUERY_PROVIDER.DATA_FAMILY.QUERY_NAME('help')\n",
    "\n",
    "This will display:\n",
    "- Query Name\n",
    "- What Data Environment it is designed for\n",
    "- Short description of what the query does\n",
    "- What paramater the query can be passed\n",
    "- The raw query that will be run"
   ]
  },
  {
   "cell_type": "code",
   "execution_count": 5,
   "metadata": {
    "scrolled": true
   },
   "outputs": [
    {
     "name": "stdout",
     "output_type": "stream",
     "text": [
      "Query:  list_alerts\n",
      "Data source:  LogAnalytics\n",
      "Retrieves list of alerts\n",
      "\n",
      "Parameters\n",
      "----------\n",
      "add_query_items: str (optional)\n",
      "    Additional query clauses\n",
      "end: datetime\n",
      "    Query end time\n",
      "path_separator: str (optional)\n",
      "    Path separator\n",
      "    (default value is: \\\\)\n",
      "query_project: str (optional)\n",
      "    Column project statement\n",
      "    (default value is:  | project-rename StartTimeUtc = StartTime, EndTim...)\n",
      "start: datetime\n",
      "    Query start time\n",
      "subscription_filter: str (optional)\n",
      "    Optional subscription/tenant filter expression\n",
      "    (default value is: true)\n",
      "table: str (optional)\n",
      "    Table name\n",
      "    (default value is: SecurityAlert)\n",
      "Query:\n",
      " {table} {query_project} | where {subscription_filter} | where TimeGenerated >= datetime({start}) | where TimeGenerated <= datetime({end}) | extend extendedProps = parse_json(ExtendedProperties) | extend CompromisedEntity = tostring(extendedProps[\"Compromised Host\"]) | project-away extendedProps {add_query_items}\n"
     ]
    }
   ],
   "source": [
    "qry_prov.SecurityAlert.list_alerts('?')"
   ]
  },
  {
   "cell_type": "markdown",
   "metadata": {},
   "source": [
    "<a id='run_query'></a>\n",
    "### Running an pre-defined query\n",
    "To call a query we again call QUERY_PROVIDER.DATA_FAMILY.QUERY_NAME(**Kwargs) but this time we simply pass required parameters for that query as key word arguements.\n",
    "This will return a Pandas DataFrame of the results with the columns determined by the query parameters."
   ]
  },
  {
   "cell_type": "code",
   "execution_count": 6,
   "metadata": {
    "scrolled": true
   },
   "outputs": [
    {
     "data": {
      "application/javascript": [
       "try {IPython.notebook.kernel.execute(\"NOTEBOOK_URL = '\" + window.location + \"'\");} catch(err) {;}"
      ],
      "text/plain": [
       "<IPython.core.display.Javascript object>"
      ]
     },
     "metadata": {},
     "output_type": "display_data"
    },
    {
     "data": {
      "application/javascript": [
       "try {IPython.notebook.kernel.execute(\"NOTEBOOK_URL = '\" + window.location + \"'\");} catch(err) {;}"
      ],
      "text/plain": [
       "<IPython.core.display.Javascript object>"
      ]
     },
     "metadata": {},
     "output_type": "display_data"
    },
    {
     "data": {
      "text/html": [
       "<div>\n",
       "<style scoped>\n",
       "    .dataframe tbody tr th:only-of-type {\n",
       "        vertical-align: middle;\n",
       "    }\n",
       "\n",
       "    .dataframe tbody tr th {\n",
       "        vertical-align: top;\n",
       "    }\n",
       "\n",
       "    .dataframe thead th {\n",
       "        text-align: right;\n",
       "    }\n",
       "</style>\n",
       "<table border=\"1\" class=\"dataframe\">\n",
       "  <thead>\n",
       "    <tr style=\"text-align: right;\">\n",
       "      <th></th>\n",
       "      <th>TenantId</th>\n",
       "      <th>TimeGenerated</th>\n",
       "      <th>AlertDisplayName</th>\n",
       "      <th>AlertName</th>\n",
       "      <th>Severity</th>\n",
       "      <th>Description</th>\n",
       "      <th>ProviderName</th>\n",
       "      <th>VendorName</th>\n",
       "      <th>VendorOriginalId</th>\n",
       "      <th>SystemAlertId</th>\n",
       "      <th>...</th>\n",
       "      <th>ExtendedProperties</th>\n",
       "      <th>Entities</th>\n",
       "      <th>SourceSystem</th>\n",
       "      <th>WorkspaceSubscriptionId</th>\n",
       "      <th>WorkspaceResourceGroup</th>\n",
       "      <th>ExtendedLinks</th>\n",
       "      <th>ProductName</th>\n",
       "      <th>ProductComponentName</th>\n",
       "      <th>Type</th>\n",
       "      <th>CompromisedEntity</th>\n",
       "    </tr>\n",
       "  </thead>\n",
       "  <tbody>\n",
       "    <tr>\n",
       "      <th>0</th>\n",
       "      <td>b1315f05-4a7a-45b4-811f-73e715f7c122</td>\n",
       "      <td>2019-06-16 00:37:37</td>\n",
       "      <td>Suspicious authentication activity</td>\n",
       "      <td>Suspicious authentication activity</td>\n",
       "      <td>Medium</td>\n",
       "      <td>Although none of them succeeded, some of them ...</td>\n",
       "      <td>Detection</td>\n",
       "      <td>Microsoft</td>\n",
       "      <td>c4e5e633-f8a1-42fd-ac7e-1a4a3fd69497</td>\n",
       "      <td>2518416611991069522_c4e5e633-f8a1-42fd-ac7e-1a...</td>\n",
       "      <td>...</td>\n",
       "      <td>{\\r\\n  \"Activity start time (UTC)\": \"2019/06/1...</td>\n",
       "      <td>[\\r\\n  {\\r\\n    \"$id\": \"4\",\\r\\n    \"HostName\":...</td>\n",
       "      <td>Detection</td>\n",
       "      <td>3b701f84-d04b-4479-89b1-fa8827eb537e</td>\n",
       "      <td>sentineltest</td>\n",
       "      <td>[\\r\\n  {\\r\\n    \"Href\": \"https://interflowwebp...</td>\n",
       "      <td>Azure Security Center</td>\n",
       "      <td></td>\n",
       "      <td>SecurityAlert</td>\n",
       "      <td></td>\n",
       "    </tr>\n",
       "    <tr>\n",
       "      <th>1</th>\n",
       "      <td>b1315f05-4a7a-45b4-811f-73e715f7c122</td>\n",
       "      <td>2019-06-16 00:37:37</td>\n",
       "      <td>Suspicious authentication activity</td>\n",
       "      <td>Suspicious authentication activity</td>\n",
       "      <td>Medium</td>\n",
       "      <td>Although none of them succeeded, some of them ...</td>\n",
       "      <td>Detection</td>\n",
       "      <td>Microsoft</td>\n",
       "      <td>c4e5e633-f8a1-42fd-ac7e-1a4a3fd69497</td>\n",
       "      <td>72b658e2-5f43-489c-b4de-5dab56a2a4e1</td>\n",
       "      <td>...</td>\n",
       "      <td>{\\r\\n  \"Activity start time (UTC)\": \"2019/06/1...</td>\n",
       "      <td>[\\r\\n  {\\r\\n    \"$id\": \"4\",\\r\\n    \"HostName\":...</td>\n",
       "      <td>Detection</td>\n",
       "      <td>3b701f84-d04b-4479-89b1-fa8827eb537e</td>\n",
       "      <td>sentineltest</td>\n",
       "      <td>[\\r\\n  {\\r\\n    \"Href\": \"https://interflowwebp...</td>\n",
       "      <td>Azure Security Center</td>\n",
       "      <td></td>\n",
       "      <td>SecurityAlert</td>\n",
       "      <td></td>\n",
       "    </tr>\n",
       "    <tr>\n",
       "      <th>2</th>\n",
       "      <td>b1315f05-4a7a-45b4-811f-73e715f7c122</td>\n",
       "      <td>2019-06-17 07:35:02</td>\n",
       "      <td>Suspicious authentication activity</td>\n",
       "      <td>Suspicious authentication activity</td>\n",
       "      <td>Medium</td>\n",
       "      <td>Although none of them succeeded, some of them ...</td>\n",
       "      <td>Detection</td>\n",
       "      <td>Microsoft</td>\n",
       "      <td>b0bc84fc-d9dc-4cce-a651-ef704c7b839d</td>\n",
       "      <td>2518415495594616834_b0bc84fc-d9dc-4cce-a651-ef...</td>\n",
       "      <td>...</td>\n",
       "      <td>{\\r\\n  \"Activity start time (UTC)\": \"2019/06/1...</td>\n",
       "      <td>[\\r\\n  {\\r\\n    \"$id\": \"4\",\\r\\n    \"HostName\":...</td>\n",
       "      <td>Detection</td>\n",
       "      <td>3b701f84-d04b-4479-89b1-fa8827eb537e</td>\n",
       "      <td>sentineltest</td>\n",
       "      <td>[\\r\\n  {\\r\\n    \"Href\": \"https://interflowwebp...</td>\n",
       "      <td>Azure Security Center</td>\n",
       "      <td></td>\n",
       "      <td>SecurityAlert</td>\n",
       "      <td></td>\n",
       "    </tr>\n",
       "    <tr>\n",
       "      <th>3</th>\n",
       "      <td>b1315f05-4a7a-45b4-811f-73e715f7c122</td>\n",
       "      <td>2019-06-17 07:35:02</td>\n",
       "      <td>Suspicious authentication activity</td>\n",
       "      <td>Suspicious authentication activity</td>\n",
       "      <td>Medium</td>\n",
       "      <td>Although none of them succeeded, some of them ...</td>\n",
       "      <td>Detection</td>\n",
       "      <td>Microsoft</td>\n",
       "      <td>b0bc84fc-d9dc-4cce-a651-ef704c7b839d</td>\n",
       "      <td>217b6dc1-8149-4fdd-a74d-34f2be9c9be7</td>\n",
       "      <td>...</td>\n",
       "      <td>{\\r\\n  \"Activity start time (UTC)\": \"2019/06/1...</td>\n",
       "      <td>[\\r\\n  {\\r\\n    \"$id\": \"4\",\\r\\n    \"HostName\":...</td>\n",
       "      <td>Detection</td>\n",
       "      <td>3b701f84-d04b-4479-89b1-fa8827eb537e</td>\n",
       "      <td>sentineltest</td>\n",
       "      <td>[\\r\\n  {\\r\\n    \"Href\": \"https://interflowwebp...</td>\n",
       "      <td>Azure Security Center</td>\n",
       "      <td></td>\n",
       "      <td>SecurityAlert</td>\n",
       "      <td></td>\n",
       "    </tr>\n",
       "    <tr>\n",
       "      <th>4</th>\n",
       "      <td>b1315f05-4a7a-45b4-811f-73e715f7c122</td>\n",
       "      <td>2019-06-19 13:55:39</td>\n",
       "      <td>Suspicious authentication activity</td>\n",
       "      <td>Suspicious authentication activity</td>\n",
       "      <td>Medium</td>\n",
       "      <td>Although none of them succeeded, some of them ...</td>\n",
       "      <td>Detection</td>\n",
       "      <td>Microsoft</td>\n",
       "      <td>c0306986-d87d-45b3-be74-dfd350eeb8f0</td>\n",
       "      <td>b0fc7294-3aac-4f69-9f60-386bbfdeec4c</td>\n",
       "      <td>...</td>\n",
       "      <td>{\\r\\n  \"Activity start time (UTC)\": \"2019/06/1...</td>\n",
       "      <td>[\\r\\n  {\\r\\n    \"$id\": \"4\",\\r\\n    \"HostName\":...</td>\n",
       "      <td>Detection</td>\n",
       "      <td>3b701f84-d04b-4479-89b1-fa8827eb537e</td>\n",
       "      <td>sentineltest</td>\n",
       "      <td>[\\r\\n  {\\r\\n    \"Href\": \"https://interflowwebp...</td>\n",
       "      <td>Azure Security Center</td>\n",
       "      <td></td>\n",
       "      <td>SecurityAlert</td>\n",
       "      <td></td>\n",
       "    </tr>\n",
       "  </tbody>\n",
       "</table>\n",
       "<p>5 rows × 30 columns</p>\n",
       "</div>"
      ],
      "text/plain": [
       "                               TenantId       TimeGenerated  \\\n",
       "0  b1315f05-4a7a-45b4-811f-73e715f7c122 2019-06-16 00:37:37   \n",
       "1  b1315f05-4a7a-45b4-811f-73e715f7c122 2019-06-16 00:37:37   \n",
       "2  b1315f05-4a7a-45b4-811f-73e715f7c122 2019-06-17 07:35:02   \n",
       "3  b1315f05-4a7a-45b4-811f-73e715f7c122 2019-06-17 07:35:02   \n",
       "4  b1315f05-4a7a-45b4-811f-73e715f7c122 2019-06-19 13:55:39   \n",
       "\n",
       "                     AlertDisplayName                           AlertName  \\\n",
       "0  Suspicious authentication activity  Suspicious authentication activity   \n",
       "1  Suspicious authentication activity  Suspicious authentication activity   \n",
       "2  Suspicious authentication activity  Suspicious authentication activity   \n",
       "3  Suspicious authentication activity  Suspicious authentication activity   \n",
       "4  Suspicious authentication activity  Suspicious authentication activity   \n",
       "\n",
       "  Severity                                        Description ProviderName  \\\n",
       "0   Medium  Although none of them succeeded, some of them ...    Detection   \n",
       "1   Medium  Although none of them succeeded, some of them ...    Detection   \n",
       "2   Medium  Although none of them succeeded, some of them ...    Detection   \n",
       "3   Medium  Although none of them succeeded, some of them ...    Detection   \n",
       "4   Medium  Although none of them succeeded, some of them ...    Detection   \n",
       "\n",
       "  VendorName                      VendorOriginalId  \\\n",
       "0  Microsoft  c4e5e633-f8a1-42fd-ac7e-1a4a3fd69497   \n",
       "1  Microsoft  c4e5e633-f8a1-42fd-ac7e-1a4a3fd69497   \n",
       "2  Microsoft  b0bc84fc-d9dc-4cce-a651-ef704c7b839d   \n",
       "3  Microsoft  b0bc84fc-d9dc-4cce-a651-ef704c7b839d   \n",
       "4  Microsoft  c0306986-d87d-45b3-be74-dfd350eeb8f0   \n",
       "\n",
       "                                       SystemAlertId  ...  \\\n",
       "0  2518416611991069522_c4e5e633-f8a1-42fd-ac7e-1a...  ...   \n",
       "1               72b658e2-5f43-489c-b4de-5dab56a2a4e1  ...   \n",
       "2  2518415495594616834_b0bc84fc-d9dc-4cce-a651-ef...  ...   \n",
       "3               217b6dc1-8149-4fdd-a74d-34f2be9c9be7  ...   \n",
       "4               b0fc7294-3aac-4f69-9f60-386bbfdeec4c  ...   \n",
       "\n",
       "                                  ExtendedProperties  \\\n",
       "0  {\\r\\n  \"Activity start time (UTC)\": \"2019/06/1...   \n",
       "1  {\\r\\n  \"Activity start time (UTC)\": \"2019/06/1...   \n",
       "2  {\\r\\n  \"Activity start time (UTC)\": \"2019/06/1...   \n",
       "3  {\\r\\n  \"Activity start time (UTC)\": \"2019/06/1...   \n",
       "4  {\\r\\n  \"Activity start time (UTC)\": \"2019/06/1...   \n",
       "\n",
       "                                            Entities SourceSystem  \\\n",
       "0  [\\r\\n  {\\r\\n    \"$id\": \"4\",\\r\\n    \"HostName\":...    Detection   \n",
       "1  [\\r\\n  {\\r\\n    \"$id\": \"4\",\\r\\n    \"HostName\":...    Detection   \n",
       "2  [\\r\\n  {\\r\\n    \"$id\": \"4\",\\r\\n    \"HostName\":...    Detection   \n",
       "3  [\\r\\n  {\\r\\n    \"$id\": \"4\",\\r\\n    \"HostName\":...    Detection   \n",
       "4  [\\r\\n  {\\r\\n    \"$id\": \"4\",\\r\\n    \"HostName\":...    Detection   \n",
       "\n",
       "                WorkspaceSubscriptionId  WorkspaceResourceGroup  \\\n",
       "0  3b701f84-d04b-4479-89b1-fa8827eb537e            sentineltest   \n",
       "1  3b701f84-d04b-4479-89b1-fa8827eb537e            sentineltest   \n",
       "2  3b701f84-d04b-4479-89b1-fa8827eb537e            sentineltest   \n",
       "3  3b701f84-d04b-4479-89b1-fa8827eb537e            sentineltest   \n",
       "4  3b701f84-d04b-4479-89b1-fa8827eb537e            sentineltest   \n",
       "\n",
       "                                       ExtendedLinks            ProductName  \\\n",
       "0  [\\r\\n  {\\r\\n    \"Href\": \"https://interflowwebp...  Azure Security Center   \n",
       "1  [\\r\\n  {\\r\\n    \"Href\": \"https://interflowwebp...  Azure Security Center   \n",
       "2  [\\r\\n  {\\r\\n    \"Href\": \"https://interflowwebp...  Azure Security Center   \n",
       "3  [\\r\\n  {\\r\\n    \"Href\": \"https://interflowwebp...  Azure Security Center   \n",
       "4  [\\r\\n  {\\r\\n    \"Href\": \"https://interflowwebp...  Azure Security Center   \n",
       "\n",
       "  ProductComponentName           Type CompromisedEntity  \n",
       "0                       SecurityAlert                    \n",
       "1                       SecurityAlert                    \n",
       "2                       SecurityAlert                    \n",
       "3                       SecurityAlert                    \n",
       "4                       SecurityAlert                    \n",
       "\n",
       "[5 rows x 30 columns]"
      ]
     },
     "execution_count": 6,
     "metadata": {},
     "output_type": "execute_result"
    }
   ],
   "source": [
    "alerts = qry_prov.SecurityAlert.list_alerts(start='2019-06-16 00:29:29.645921', end='2019-06-19 15:36:08.620516')\n",
    "alerts.head()"
   ]
  },
  {
   "cell_type": "markdown",
   "metadata": {},
   "source": [
    "<a id='run_adhoc'></a>\n",
    "###  Running an ad-hoc query\n",
    "It is also possible to run ad-hoc queries via a similar method. Rather than calling a name query from the Query Provider query store, we can pass a query directly to our Query Provider with QUERY_PROVIDER._query_provider.query(query=QUERY_STRING). This will execute the query string passed in the parameters with the driver contained in the Query Provider and return data in a Pandas DataFrame\n",
    "\n",
    "    query(self, query: str) -> Union[pd.DataFrame, Any]:\n",
    "        Execute query string and return DataFrame of results.\n",
    "\n",
    "        Parameters\n",
    "        ----------\n",
    "        query : str\n",
    "            The kql query to execute\n",
    "\n",
    "        Returns\n",
    "        -------\n",
    "        Union[pd.DataFrame, results.ResultSet]\n",
    "            A DataFrame (if successfull) or\n",
    "            Kql ResultSet if an error.\n"
   ]
  },
  {
   "cell_type": "code",
   "execution_count": 6,
   "metadata": {},
   "outputs": [
    {
     "data": {
      "application/javascript": [
       "try {IPython.notebook.kernel.execute(\"NOTEBOOK_URL = '\" + window.location + \"'\");} catch(err) {;}"
      ],
      "text/plain": [
       "<IPython.core.display.Javascript object>"
      ]
     },
     "metadata": {},
     "output_type": "display_data"
    },
    {
     "data": {
      "application/javascript": [
       "try {IPython.notebook.kernel.execute(\"NOTEBOOK_URL = '\" + window.location + \"'\");} catch(err) {;}"
      ],
      "text/plain": [
       "<IPython.core.display.Javascript object>"
      ]
     },
     "metadata": {},
     "output_type": "display_data"
    },
    {
     "data": {
      "text/html": [
       "<div>\n",
       "<style scoped>\n",
       "    .dataframe tbody tr th:only-of-type {\n",
       "        vertical-align: middle;\n",
       "    }\n",
       "\n",
       "    .dataframe tbody tr th {\n",
       "        vertical-align: top;\n",
       "    }\n",
       "\n",
       "    .dataframe thead th {\n",
       "        text-align: right;\n",
       "    }\n",
       "</style>\n",
       "<table border=\"1\" class=\"dataframe\">\n",
       "  <thead>\n",
       "    <tr style=\"text-align: right;\">\n",
       "      <th></th>\n",
       "      <th>TenantId</th>\n",
       "      <th>TimeGenerated</th>\n",
       "      <th>DisplayName</th>\n",
       "      <th>AlertName</th>\n",
       "      <th>AlertSeverity</th>\n",
       "      <th>Description</th>\n",
       "      <th>ProviderName</th>\n",
       "      <th>VendorName</th>\n",
       "      <th>VendorOriginalId</th>\n",
       "      <th>SystemAlertId</th>\n",
       "      <th>...</th>\n",
       "      <th>RemediationSteps</th>\n",
       "      <th>ExtendedProperties</th>\n",
       "      <th>Entities</th>\n",
       "      <th>SourceSystem</th>\n",
       "      <th>WorkspaceSubscriptionId</th>\n",
       "      <th>WorkspaceResourceGroup</th>\n",
       "      <th>ExtendedLinks</th>\n",
       "      <th>ProductName</th>\n",
       "      <th>ProductComponentName</th>\n",
       "      <th>Type</th>\n",
       "    </tr>\n",
       "  </thead>\n",
       "  <tbody>\n",
       "    <tr>\n",
       "      <th>0</th>\n",
       "      <td>b1315f05-4a7a-45b4-811f-73e715f7c122</td>\n",
       "      <td>2019-06-16 00:37:37</td>\n",
       "      <td>Suspicious authentication activity</td>\n",
       "      <td>Suspicious authentication activity</td>\n",
       "      <td>Medium</td>\n",
       "      <td>Although none of them succeeded, some of them ...</td>\n",
       "      <td>Detection</td>\n",
       "      <td>Microsoft</td>\n",
       "      <td>c4e5e633-f8a1-42fd-ac7e-1a4a3fd69497</td>\n",
       "      <td>2518416611991069522_c4e5e633-f8a1-42fd-ac7e-1a...</td>\n",
       "      <td>...</td>\n",
       "      <td>[\\r\\n  \"1. Enforce the use of strong passwords...</td>\n",
       "      <td>{\\r\\n  \"Activity start time (UTC)\": \"2019/06/1...</td>\n",
       "      <td>[\\r\\n  {\\r\\n    \"$id\": \"4\",\\r\\n    \"HostName\":...</td>\n",
       "      <td>Detection</td>\n",
       "      <td>3b701f84-d04b-4479-89b1-fa8827eb537e</td>\n",
       "      <td>sentineltest</td>\n",
       "      <td>[\\r\\n  {\\r\\n    \"Href\": \"https://interflowwebp...</td>\n",
       "      <td>Azure Security Center</td>\n",
       "      <td></td>\n",
       "      <td>SecurityAlert</td>\n",
       "    </tr>\n",
       "    <tr>\n",
       "      <th>1</th>\n",
       "      <td>b1315f05-4a7a-45b4-811f-73e715f7c122</td>\n",
       "      <td>2019-06-16 00:37:37</td>\n",
       "      <td>Suspicious authentication activity</td>\n",
       "      <td>Suspicious authentication activity</td>\n",
       "      <td>Medium</td>\n",
       "      <td>Although none of them succeeded, some of them ...</td>\n",
       "      <td>Detection</td>\n",
       "      <td>Microsoft</td>\n",
       "      <td>c4e5e633-f8a1-42fd-ac7e-1a4a3fd69497</td>\n",
       "      <td>72b658e2-5f43-489c-b4de-5dab56a2a4e1</td>\n",
       "      <td>...</td>\n",
       "      <td>[\\r\\n  \"1. Enforce the use of strong passwords...</td>\n",
       "      <td>{\\r\\n  \"Activity start time (UTC)\": \"2019/06/1...</td>\n",
       "      <td>[\\r\\n  {\\r\\n    \"$id\": \"4\",\\r\\n    \"HostName\":...</td>\n",
       "      <td>Detection</td>\n",
       "      <td>3b701f84-d04b-4479-89b1-fa8827eb537e</td>\n",
       "      <td>sentineltest</td>\n",
       "      <td>[\\r\\n  {\\r\\n    \"Href\": \"https://interflowwebp...</td>\n",
       "      <td>Azure Security Center</td>\n",
       "      <td></td>\n",
       "      <td>SecurityAlert</td>\n",
       "    </tr>\n",
       "    <tr>\n",
       "      <th>2</th>\n",
       "      <td>b1315f05-4a7a-45b4-811f-73e715f7c122</td>\n",
       "      <td>2019-06-21 23:34:49</td>\n",
       "      <td>Suspicious authentication activity</td>\n",
       "      <td>Suspicious authentication activity</td>\n",
       "      <td>Medium</td>\n",
       "      <td>Although none of them succeeded, some of them ...</td>\n",
       "      <td>Detection</td>\n",
       "      <td>Microsoft</td>\n",
       "      <td>f9fad35f-da3d-46a0-aad6-c318fd6a2347</td>\n",
       "      <td>3c8722a4-bfad-4993-9a81-011619aab93a</td>\n",
       "      <td>...</td>\n",
       "      <td>[\\r\\n  \"1. Enforce the use of strong passwords...</td>\n",
       "      <td>{\\r\\n  \"Activity start time (UTC)\": \"2019/06/2...</td>\n",
       "      <td>[\\r\\n  {\\r\\n    \"$id\": \"4\",\\r\\n    \"HostName\":...</td>\n",
       "      <td>Detection</td>\n",
       "      <td>3b701f84-d04b-4479-89b1-fa8827eb537e</td>\n",
       "      <td>sentineltest</td>\n",
       "      <td>[\\r\\n  {\\r\\n    \"Href\": \"https://interflowwebp...</td>\n",
       "      <td>Azure Security Center</td>\n",
       "      <td></td>\n",
       "      <td>SecurityAlert</td>\n",
       "    </tr>\n",
       "    <tr>\n",
       "      <th>3</th>\n",
       "      <td>b1315f05-4a7a-45b4-811f-73e715f7c122</td>\n",
       "      <td>2019-06-21 23:34:49</td>\n",
       "      <td>Suspicious authentication activity</td>\n",
       "      <td>Suspicious authentication activity</td>\n",
       "      <td>Medium</td>\n",
       "      <td>Although none of them succeeded, some of them ...</td>\n",
       "      <td>Detection</td>\n",
       "      <td>Microsoft</td>\n",
       "      <td>f9fad35f-da3d-46a0-aad6-c318fd6a2347</td>\n",
       "      <td>2518411463995923982_f9fad35f-da3d-46a0-aad6-c3...</td>\n",
       "      <td>...</td>\n",
       "      <td>[\\r\\n  \"1. Enforce the use of strong passwords...</td>\n",
       "      <td>{\\r\\n  \"Activity start time (UTC)\": \"2019/06/2...</td>\n",
       "      <td>[\\r\\n  {\\r\\n    \"$id\": \"4\",\\r\\n    \"HostName\":...</td>\n",
       "      <td>Detection</td>\n",
       "      <td>3b701f84-d04b-4479-89b1-fa8827eb537e</td>\n",
       "      <td>sentineltest</td>\n",
       "      <td>[\\r\\n  {\\r\\n    \"Href\": \"https://interflowwebp...</td>\n",
       "      <td>Azure Security Center</td>\n",
       "      <td></td>\n",
       "      <td>SecurityAlert</td>\n",
       "    </tr>\n",
       "    <tr>\n",
       "      <th>4</th>\n",
       "      <td>b1315f05-4a7a-45b4-811f-73e715f7c122</td>\n",
       "      <td>2019-06-09 23:34:29</td>\n",
       "      <td>Suspicious authentication activity</td>\n",
       "      <td>Suspicious authentication activity</td>\n",
       "      <td>Medium</td>\n",
       "      <td>Although none of them succeeded, some of them ...</td>\n",
       "      <td>Detection</td>\n",
       "      <td>Microsoft</td>\n",
       "      <td>24e105a6-7cf4-4fd1-b60b-0ad2da573cad</td>\n",
       "      <td>d38aed75-ada3-4449-ac11-8911d53fb103</td>\n",
       "      <td>...</td>\n",
       "      <td>[\\r\\n  \"1. Enforce the use of strong passwords...</td>\n",
       "      <td>{\\r\\n  \"Activity start time (UTC)\": \"2019/06/0...</td>\n",
       "      <td>[\\r\\n  {\\r\\n    \"$id\": \"4\",\\r\\n    \"HostName\":...</td>\n",
       "      <td>Detection</td>\n",
       "      <td>3b701f84-d04b-4479-89b1-fa8827eb537e</td>\n",
       "      <td>sentineltest</td>\n",
       "      <td>[\\r\\n  {\\r\\n    \"Href\": \"https://interflowwebp...</td>\n",
       "      <td>Azure Security Center</td>\n",
       "      <td></td>\n",
       "      <td>SecurityAlert</td>\n",
       "    </tr>\n",
       "  </tbody>\n",
       "</table>\n",
       "<p>5 rows × 29 columns</p>\n",
       "</div>"
      ],
      "text/plain": [
       "                               TenantId       TimeGenerated  \\\n",
       "0  b1315f05-4a7a-45b4-811f-73e715f7c122 2019-06-16 00:37:37   \n",
       "1  b1315f05-4a7a-45b4-811f-73e715f7c122 2019-06-16 00:37:37   \n",
       "2  b1315f05-4a7a-45b4-811f-73e715f7c122 2019-06-21 23:34:49   \n",
       "3  b1315f05-4a7a-45b4-811f-73e715f7c122 2019-06-21 23:34:49   \n",
       "4  b1315f05-4a7a-45b4-811f-73e715f7c122 2019-06-09 23:34:29   \n",
       "\n",
       "                          DisplayName                           AlertName  \\\n",
       "0  Suspicious authentication activity  Suspicious authentication activity   \n",
       "1  Suspicious authentication activity  Suspicious authentication activity   \n",
       "2  Suspicious authentication activity  Suspicious authentication activity   \n",
       "3  Suspicious authentication activity  Suspicious authentication activity   \n",
       "4  Suspicious authentication activity  Suspicious authentication activity   \n",
       "\n",
       "  AlertSeverity                                        Description  \\\n",
       "0        Medium  Although none of them succeeded, some of them ...   \n",
       "1        Medium  Although none of them succeeded, some of them ...   \n",
       "2        Medium  Although none of them succeeded, some of them ...   \n",
       "3        Medium  Although none of them succeeded, some of them ...   \n",
       "4        Medium  Although none of them succeeded, some of them ...   \n",
       "\n",
       "  ProviderName VendorName                      VendorOriginalId  \\\n",
       "0    Detection  Microsoft  c4e5e633-f8a1-42fd-ac7e-1a4a3fd69497   \n",
       "1    Detection  Microsoft  c4e5e633-f8a1-42fd-ac7e-1a4a3fd69497   \n",
       "2    Detection  Microsoft  f9fad35f-da3d-46a0-aad6-c318fd6a2347   \n",
       "3    Detection  Microsoft  f9fad35f-da3d-46a0-aad6-c318fd6a2347   \n",
       "4    Detection  Microsoft  24e105a6-7cf4-4fd1-b60b-0ad2da573cad   \n",
       "\n",
       "                                       SystemAlertId  ...  \\\n",
       "0  2518416611991069522_c4e5e633-f8a1-42fd-ac7e-1a...  ...   \n",
       "1               72b658e2-5f43-489c-b4de-5dab56a2a4e1  ...   \n",
       "2               3c8722a4-bfad-4993-9a81-011619aab93a  ...   \n",
       "3  2518411463995923982_f9fad35f-da3d-46a0-aad6-c3...  ...   \n",
       "4               d38aed75-ada3-4449-ac11-8911d53fb103  ...   \n",
       "\n",
       "                                    RemediationSteps  \\\n",
       "0  [\\r\\n  \"1. Enforce the use of strong passwords...   \n",
       "1  [\\r\\n  \"1. Enforce the use of strong passwords...   \n",
       "2  [\\r\\n  \"1. Enforce the use of strong passwords...   \n",
       "3  [\\r\\n  \"1. Enforce the use of strong passwords...   \n",
       "4  [\\r\\n  \"1. Enforce the use of strong passwords...   \n",
       "\n",
       "                                  ExtendedProperties  \\\n",
       "0  {\\r\\n  \"Activity start time (UTC)\": \"2019/06/1...   \n",
       "1  {\\r\\n  \"Activity start time (UTC)\": \"2019/06/1...   \n",
       "2  {\\r\\n  \"Activity start time (UTC)\": \"2019/06/2...   \n",
       "3  {\\r\\n  \"Activity start time (UTC)\": \"2019/06/2...   \n",
       "4  {\\r\\n  \"Activity start time (UTC)\": \"2019/06/0...   \n",
       "\n",
       "                                            Entities SourceSystem  \\\n",
       "0  [\\r\\n  {\\r\\n    \"$id\": \"4\",\\r\\n    \"HostName\":...    Detection   \n",
       "1  [\\r\\n  {\\r\\n    \"$id\": \"4\",\\r\\n    \"HostName\":...    Detection   \n",
       "2  [\\r\\n  {\\r\\n    \"$id\": \"4\",\\r\\n    \"HostName\":...    Detection   \n",
       "3  [\\r\\n  {\\r\\n    \"$id\": \"4\",\\r\\n    \"HostName\":...    Detection   \n",
       "4  [\\r\\n  {\\r\\n    \"$id\": \"4\",\\r\\n    \"HostName\":...    Detection   \n",
       "\n",
       "                WorkspaceSubscriptionId  WorkspaceResourceGroup  \\\n",
       "0  3b701f84-d04b-4479-89b1-fa8827eb537e            sentineltest   \n",
       "1  3b701f84-d04b-4479-89b1-fa8827eb537e            sentineltest   \n",
       "2  3b701f84-d04b-4479-89b1-fa8827eb537e            sentineltest   \n",
       "3  3b701f84-d04b-4479-89b1-fa8827eb537e            sentineltest   \n",
       "4  3b701f84-d04b-4479-89b1-fa8827eb537e            sentineltest   \n",
       "\n",
       "                                       ExtendedLinks            ProductName  \\\n",
       "0  [\\r\\n  {\\r\\n    \"Href\": \"https://interflowwebp...  Azure Security Center   \n",
       "1  [\\r\\n  {\\r\\n    \"Href\": \"https://interflowwebp...  Azure Security Center   \n",
       "2  [\\r\\n  {\\r\\n    \"Href\": \"https://interflowwebp...  Azure Security Center   \n",
       "3  [\\r\\n  {\\r\\n    \"Href\": \"https://interflowwebp...  Azure Security Center   \n",
       "4  [\\r\\n  {\\r\\n    \"Href\": \"https://interflowwebp...  Azure Security Center   \n",
       "\n",
       "  ProductComponentName           Type  \n",
       "0                       SecurityAlert  \n",
       "1                       SecurityAlert  \n",
       "2                       SecurityAlert  \n",
       "3                       SecurityAlert  \n",
       "4                       SecurityAlert  \n",
       "\n",
       "[5 rows x 29 columns]"
      ]
     },
     "execution_count": 6,
     "metadata": {},
     "output_type": "execute_result"
    }
   ],
   "source": [
    "test_query = '''\n",
    "    SecurityAlert\n",
    "    | take 5\n",
    "    '''\n",
    "\n",
    "query_test = qry_prov._query_provider.query(query=test_query)\n",
    "query_test"
   ]
  },
  {
   "cell_type": "markdown",
   "metadata": {},
   "source": [
    "<a id='new'></a>\n",
    "### Creating a new set of queries\n",
    "msticpy provides a number of pre-defined queries to call with using the data package. You can also add in additional queries to be imported and used by your Query Provider, these are defined in YAML format files and examples of these files can be found at the msticpy GitHub site https://github.com/microsoft/msticpy/tree/master/msticpy/data/queries. \n",
    "The required structure of these query definition files is as follows:\n",
    "- metadata\n",
    "    - version: The version number of the definition file\n",
    "    - description: A description of the purpose of this collection of query definitions\n",
    "    - data_environments[]: A list of the Data Envrionments that the defined queries can be run against (1 or more)\n",
    "    - data_families[]: A list of Data Families the defiend queries related to, these families are defined as part of misticpy.nbtools.query_defns\n",
    "    - tags[]: A list of tags to help manage definition files\n",
    "- defaults: A set of defaults that apply to all queries in the file\n",
    "    - metadata: Metadata regarding a query\n",
    "        - data_source: The data source to be used for the query\n",
    "    - parmaters: Parameters to be passed to the query\n",
    "        - name: The paramter name\n",
    "        - decription: A description of what the paramter is\n",
    "        - type: The data type of the parameter\n",
    "        - default: The default value for that parameter\n",
    "- sources: a set of queries\n",
    "    - name: The name of the query\n",
    "        -description: A description of the query's function\n",
    "        -metadata: Any metadata assocaited with the query\n",
    "        -args: The arguments of the query\n",
    "            -query: The query to be executed\n",
    "            -uri: A URI associated with the query\n",
    "        -parameters: Any parameters required by the query not covered by defaults\n",
    "            - name: The paramter name\n",
    "            - decription: A description of what the paramter is\n",
    "            - type: The data type of the parameter\n",
    "            - default: The default value for that parameter\n",
    "            \n",
    "\n",
    "There are also a number of tools within the package to assit in validating new query definition files once created.\n",
    "    \n",
    "    data_query_reader.find_yaml_files\n",
    "        \n",
    "        Return iterable of yaml files found in `source_path`.\n",
    "\n",
    "        Parameters\n",
    "        ----------\n",
    "        source_path : str\n",
    "            The source path to search in.\n",
    "        recursive : bool, optional\n",
    "            Whether to recurse through subfolders.\n",
    "            By default False\n",
    "\n",
    "        Returns\n",
    "        -------\n",
    "        Iterable[str]\n",
    "            File paths of yanl files found.\n",
    "            \n",
    "     data_query_reader.validate_query_defs\n",
    "         \n",
    "         Validate content of query definition.\n",
    "\n",
    "        Parameters\n",
    "        ----------\n",
    "        query_def_dict : dict\n",
    "            Dictionary of query definition yaml file contents.\n",
    "\n",
    "        Returns\n",
    "        -------\n",
    "        bool\n",
    "            True if validation succeeds.\n",
    "\n",
    "        Raises\n",
    "        ------\n",
    "        ValueError\n",
    "            The validation failure reason is returned in the\n",
    "            exception message (arg[0])\n",
    "\n",
    "validate_query_defs does not perform comprehensive checks on the file but does check key elements required in the file are present."
   ]
  },
  {
   "cell_type": "code",
   "execution_count": 7,
   "metadata": {},
   "outputs": [
    {
     "name": "stdout",
     "output_type": "stream",
     "text": [
      " C:\\queries\\kql_sent_linuxsyslog_activity.yaml is a valid query definition\n",
      " C:\\queries\\kql_sent_linuxsyslog_logon.yaml is a valid query definition\n"
     ]
    }
   ],
   "source": [
    "#list query files found in the repository defined\n",
    "query_files = QueryReader.find_yaml_files(source_path=\"C:\\\\queries\")\n",
    "    \n",
    "#Validate a each file in the directory\n",
    "for file in query_files:\n",
    "    with open(file) as f_handle:\n",
    "        yaml_file = yaml.safe_load(f_handle)\n",
    "        if QueryReader.validate_query_defs(query_def_dict = yaml_file) == True:\n",
    "            print(f' {file} is a valid query definition')\n",
    "        else:\n",
    "            print(f'There is an error with {file}')"
   ]
  },
  {
   "cell_type": "markdown",
   "metadata": {},
   "source": [
    "<a id='add_new'></a>\n",
    "### Adding a new set of queries and running them\n",
    "Once you are happy with a query definition file then you import it with QUERY_PROVIDER.import_query_file(query_file='PATH_TO_QUERY_FILE')\n",
    "This will load the query file into the Query Provider's Query Store from where it can be called."
   ]
  },
  {
   "cell_type": "code",
   "execution_count": 8,
   "metadata": {},
   "outputs": [],
   "source": [
    "qry_prov.import_query_file(query_file='C:\\\\queries\\\\kql_sent_linuxsyslog_logon.yaml')\n",
    "qry_prov.import_query_file(query_file='C:\\\\queries\\\\kql_sent_linuxsyslog_activity.yaml')"
   ]
  },
  {
   "cell_type": "markdown",
   "metadata": {},
   "source": [
    "Once imported the queries in the files appear in the Query Provider's Query Store along side the others and can be called in the same manner."
   ]
  },
  {
   "cell_type": "code",
   "execution_count": 9,
   "metadata": {},
   "outputs": [
    {
     "name": "stdout",
     "output_type": "stream",
     "text": [
      "LinuxSyslog.all_sylog\n",
      "LinuxSyslog.cron_activity\n",
      "LinuxSyslog.sudo_activity\n",
      "LinuxSyslog.user_group_activity\n",
      "LinuxSyslog.user_logon\n",
      "SecurityAlert.get_alert\n",
      "SecurityAlert.list_alerts\n",
      "SecurityAlert.list_alerts_counts\n",
      "SecurityAlert.list_alerts_for_ip\n",
      "SecurityAlert.list_related_alerts\n",
      "WindowsSecurity.get_host_logon\n",
      "WindowsSecurity.get_parent_process\n",
      "WindowsSecurity.get_process_tree\n",
      "WindowsSecurity.list_host_logon_failures\n",
      "WindowsSecurity.list_host_logons\n",
      "WindowsSecurity.list_host_processes\n",
      "WindowsSecurity.list_hosts_matching_commandline\n",
      "WindowsSecurity.list_matching_processes\n",
      "WindowsSecurity.list_processes_in_session\n"
     ]
    }
   ],
   "source": [
    "queries = qry_prov.list_queries()\n",
    "for query in queries:\n",
    "    print(query)"
   ]
  },
  {
   "cell_type": "code",
   "execution_count": 10,
   "metadata": {},
   "outputs": [
    {
     "name": "stdout",
     "output_type": "stream",
     "text": [
      "Query:  cron_activity\n",
      "Data source:  LogAnalytics\n",
      "All cron activity\n",
      "\n",
      "Parameters\n",
      "----------\n",
      "add_query_items: str (optional)\n",
      "    Additional query clauses\n",
      "end: datetime\n",
      "    Query end time\n",
      "host_name: str\n",
      "    Hostname to query for\n",
      "query_project: str (optional)\n",
      "    Column project statement\n",
      "    (default value is:  | project TenantId, Computer, Facility, TimeGener...)\n",
      "start: datetime\n",
      "    Query start time\n",
      "subscription_filter: str (optional)\n",
      "    Optional subscription/tenant filter expression\n",
      "    (default value is: true)\n",
      "table: str (optional)\n",
      "    Table name\n",
      "    (default value is: Syslog)\n",
      "Query:\n",
      " {table} | where {subscription_filter} | where TimeGenerated >= datetime({start}) | where TimeGenerated <= datetime({end}) | where Computer == \"{host_name}\" | where ProcessName == \"CRON\" or Facility == \"cron\" | extend CMD=extract(\"CMD(.*)\",1,SyslogMessage), User=extract(\"for user ([[:alpha:]]*)\",1,SyslogMessage), CronUser=extract(\"^[(]([[:alpha:]]*)\",1,SyslogMessage),EditStatus=extract(\"[A-Z]+ EDIT\",0,SyslogMessage)\n"
     ]
    }
   ],
   "source": [
    "qry_prov.LinuxSyslog.cron_activity('?')"
   ]
  },
  {
   "cell_type": "markdown",
   "metadata": {},
   "source": [
    "If you are having difficulties with a defined query and it is not producing the expected results it can be useful to see the raw query exactly as it is passed to the Data Environment. The block of code below produes the query string used for the SecurityAlert.list_alerts query."
   ]
  },
  {
   "cell_type": "code",
   "execution_count": 11,
   "metadata": {},
   "outputs": [
    {
     "name": "stdout",
     "output_type": "stream",
     "text": [
      " SecurityAlert  | project-rename StartTimeUtc = StartTime, EndTimeUtc = EndTime, AlertDisplayName = DisplayName, Severity = AlertSeverity | extend AlertType = iif(isempty(AlertType), AlertName, AlertType) | where true | where TimeGenerated >= datetime(2019-06-16 00:29:29.645921) | where TimeGenerated <= datetime(2019-06-19 15:36:08.620516) | extend extendedProps = parse_json(ExtendedProperties) | extend CompromisedEntity = tostring(extendedProps[\"Compromised Host\"]) | project-away extendedProps \n"
     ]
    }
   ],
   "source": [
    "# Get a copy of the raw query we are trying to execute \n",
    "query = qry_prov._query_store.get_query(data_family='SecurityAlert', query_name='list_alerts')\n",
    "params, missing = extract_query_params(query, start='2019-06-16 00:29:29.645921', end='2019-06-19 15:36:08.620516')\n",
    "query_string = query.create_query(**params)\n",
    "print(query_string)"
   ]
  }
 ],
 "metadata": {
  "kernelspec": {
   "display_name": "Python 3",
   "language": "python",
   "name": "python3"
  },
  "language_info": {
   "codemirror_mode": {
    "name": "ipython",
    "version": 3
   },
   "file_extension": ".py",
   "mimetype": "text/x-python",
   "name": "python",
   "nbconvert_exporter": "python",
   "pygments_lexer": "ipython3",
   "version": "3.7.3"
  }
 },
 "nbformat": 4,
 "nbformat_minor": 2
}
