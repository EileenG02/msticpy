{
 "cells": [
  {
   "cell_type": "markdown",
   "metadata": {},
   "source": [
    "## Using `executor_agent_magic` magic extension "
   ]
  },
  {
   "cell_type": "code",
   "execution_count": 21,
   "metadata": {},
   "outputs": [],
   "source": [
    "# Test out Execution agent \n",
    "# Import necessary aiagents\n",
    "\n",
    "# Initiate conversation and see what happens\n",
    "# %load_ext msticpy.nbtools.executor_agent_magic\n",
    "# Or use:\n",
    "%reload_ext msticpy.nbtools.executor_agent_magic\n"
   ]
  },
  {
   "cell_type": "code",
   "execution_count": 22,
   "metadata": {},
   "outputs": [
    {
     "name": "stdout",
     "output_type": "stream",
     "text": [
      "\n",
      "Question: What is 3500000+28492739?\n",
      "\n",
      "\n",
      "Answer: The sum of 3,500,000 and 28,492,739 is 31,992,739.\n"
     ]
    }
   ],
   "source": [
    "%%code\n",
    "What is 3500000+28492739?"
   ]
  }
 ],
 "metadata": {
  "kernelspec": {
   "display_name": "internshipenv",
   "language": "python",
   "name": "python3"
  },
  "language_info": {
   "codemirror_mode": {
    "name": "ipython",
    "version": 3
   },
   "file_extension": ".py",
   "mimetype": "text/x-python",
   "name": "python",
   "nbconvert_exporter": "python",
   "pygments_lexer": "ipython3",
   "version": "3.10.14"
  }
 },
 "nbformat": 4,
 "nbformat_minor": 2
}
