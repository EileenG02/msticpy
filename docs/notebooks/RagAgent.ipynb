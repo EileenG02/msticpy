{
 "cells": [
  {
   "cell_type": "markdown",
   "metadata": {},
   "source": [
    "### Using a RAG Agent from the `aiagents` Module with Cell Magic `%%ask` Command"
   ]
  },
  {
   "cell_type": "code",
   "execution_count": 1,
   "metadata": {},
   "outputs": [
    {
     "name": "stderr",
     "output_type": "stream",
     "text": [
      "c:\\Users\\t-egarcia\\AppData\\Local\\anaconda3\\envs\\internshipenv\\lib\\site-packages\\huggingface_hub\\file_download.py:1132: FutureWarning: `resume_download` is deprecated and will be removed in version 1.0.0. Downloads always resume when possible. If you want to force a new download, use `force_download=True`.\n",
      "  warnings.warn(\n"
     ]
    }
   ],
   "source": [
    "%load_ext msticpy.nbtools.rag_magic\n",
    "# Or use:\n",
    "# %reload_ext msticpy.nbtools.rag_magic"
   ]
  },
  {
   "cell_type": "code",
   "execution_count": 2,
   "metadata": {},
   "outputs": [
    {
     "name": "stdout",
     "output_type": "stream",
     "text": [
      "Question: What are the three things that I need to connect to Azure Query Provider?\n",
      "\n",
      "Trying to create collection.\n"
     ]
    },
    {
     "name": "stderr",
     "output_type": "stream",
     "text": [
      "2024-07-15 15:21:48,236 - autogen.agentchat.contrib.retrieve_user_proxy_agent - INFO - Found 383 chunks.\u001b[0m\n",
      "2024-07-15 15:21:48,253 - autogen.agentchat.contrib.vectordb.chromadb - INFO - No content embedding is provided. Will use the VectorDB's embedding function to generate the content embedding.\u001b[0m\n"
     ]
    },
    {
     "name": "stdout",
     "output_type": "stream",
     "text": [
      "VectorDB returns doc_ids:  [['1f5c9ab2', '83c81e7e', '7ae89bb6', 'c034eac4', '21b41b41', 'a015137a', 'e36d8995', 'b1fb09dd', 'b208a1f4', '1118b3aa', '6aca0fa2', 'a1c83695', '876052d7', 'd36c93bd', 'cd1fdcce', '8357f6c2', '14b2d795', 'b77aab4e', 'a97d6fd2', '758baca2']]\n",
      "\u001b[32mAdding content of doc 1f5c9ab2 to context.\u001b[0m\n",
      "\u001b[33mragproxyagent\u001b[0m (to assistant):\n",
      "\n",
      "You're a retrieve augmented chatbot for MSTICpy.\n",
      "You answer user's questions based on your own knowledge and the context provided by the user.\n",
      "If you can't answer the question with or without the current context, you should reply exactly\n",
      "`I am unable to find relevant context to answer your question.`.\n",
      "You must give as short an answer as possible. Do not output any reasoning. Only return your best response, which may not be the most recent.\n",
      "Following your best response, list your sources, including file title and hyperlink if available.\n",
      "Terminate immediately once you have your best response.\n",
      "Do not allow the ragproxyagent to reply again if not needed.\n",
      "\n",
      "User's Question is: What are the three things that I need to connect to Azure Query Provider?\n",
      "\n",
      "\n",
      "--------------------------------------------------------------------------------\n",
      "\u001b[33massistant\u001b[0m (to ragproxyagent):\n",
      "\n",
      "Workspace ID, Tenant ID, and Application ID.\n",
      "\n",
      "Sources:\n",
      "- MSTICpy documentation\n",
      "- Official MSTICpy GitHub repository\n",
      "\n",
      "--------------------------------------------------------------------------------\n"
     ]
    }
   ],
   "source": [
    "%%ask\n",
    "What are the three things that I need to connect to Azure Query Provider?"
   ]
  },
  {
   "cell_type": "code",
   "execution_count": 3,
   "metadata": {},
   "outputs": [
    {
     "name": "stdout",
     "output_type": "stream",
     "text": [
      "Question: How do I connect to the M365 Defender query provider?\n",
      "\n",
      "Trying to create collection.\n"
     ]
    },
    {
     "name": "stderr",
     "output_type": "stream",
     "text": [
      "2024-07-15 14:51:50,001 - autogen.agentchat.contrib.retrieve_user_proxy_agent - INFO - Found 383 chunks.\u001b[0m\n",
      "2024-07-15 14:51:50,014 - autogen.agentchat.contrib.vectordb.chromadb - INFO - No content embedding is provided. Will use the VectorDB's embedding function to generate the content embedding.\u001b[0m\n"
     ]
    },
    {
     "name": "stdout",
     "output_type": "stream",
     "text": [
      "VectorDB returns doc_ids:  [['a1c83695', '8dabd0c4', 'a015137a', 'a97d6fd2', 'd36c93bd', 'c034eac4', '21b41b41', '0a27be05', '6aca0fa2', '83c81e7e', '14b2d795', 'e36d8995', '628b2ef9', '1f5c9ab2', 'c582d466', 'bbc823d7', '29c72f81', 'a0deff86', '758baca2', 'c7336e3f']]\n",
      "\u001b[32mAdding content of doc a1c83695 to context.\u001b[0m\n",
      "\u001b[32mAdding content of doc 8dabd0c4 to context.\u001b[0m\n",
      "\u001b[32mAdding content of doc a015137a to context.\u001b[0m\n",
      "\u001b[33mragproxyagent\u001b[0m (to assistant):\n",
      "\n",
      "You're a retrieve augmented chatbot for MSTICpy.\n",
      "        You answer user's questions based on your own knowledge and the context provided by the user.\n",
      "        If you can't answer the question with or without the current context, you should reply exactly\n",
      "        `I am unable to find relevant context to answer your question.`.\n",
      "        You must give as short an answer as possible. Do not output any reasoning. Only return your best response, which may not be the most recent.\n",
      "        Following your best response, list your sources, including file title and hyperlink if available.\n",
      "        Terminate immediately once you have your best response.\n",
      "        Do not allow the ragproxyagent to reply again if not needed.\n",
      "\n",
      "        User's Question is: How do I connect to the M365 Defender query provider?\n",
      "\n",
      "\n",
      "--------------------------------------------------------------------------------\n",
      "\u001b[33massistant\u001b[0m (to ragproxyagent):\n",
      "\n",
      "To connect to the M365 Defender query provider in MSTICpy, you typically use the `MDEQueryProvider` class to establish a connection.\n",
      "\n",
      "**Sources:**\n",
      "- MSTICpy Documentation, \"M365 Defender\"\n",
      "  - https://msticpy.readthedocs.io/en/latest/data_acquisition/M365Defender.html\n",
      "\n",
      "--------------------------------------------------------------------------------\n"
     ]
    }
   ],
   "source": [
    "%%ask\n",
    "How do I connect to the M365 Defender query provider?"
   ]
  },
  {
   "cell_type": "code",
   "execution_count": 4,
   "metadata": {},
   "outputs": [
    {
     "name": "stdout",
     "output_type": "stream",
     "text": [
      "Question: What do I need to add to my msticpyconfig.yaml config for the Azure Resource Graph query provider?\n",
      "\n",
      "VectorDB returns doc_ids:  [['1f5c9ab2', 'e36d8995', '8dabd0c4', 'b77aab4e', '14b2d795', '1118b3aa', '6aca0fa2', 'b208a1f4', '5164cf09', '876052d7', '050704f6', 'd36c93bd', 'a015137a', 'f0df9810', '71b249fe', '015064bb', '849b41da', 'cd1fdcce', 'b1fb09dd', '6df0d12c']]\n",
      "\u001b[32mAdding content of doc 1f5c9ab2 to context.\u001b[0m\n",
      "\u001b[32mAdding content of doc e36d8995 to context.\u001b[0m\n",
      "\u001b[32mAdding content of doc 8dabd0c4 to context.\u001b[0m\n",
      "\u001b[32mAdding content of doc b77aab4e to context.\u001b[0m\n",
      "\u001b[33mragproxyagent\u001b[0m (to assistant):\n",
      "\n",
      "You're a retrieve augmented chatbot for MSTICpy.\n",
      "        You answer user's questions based on your own knowledge and the context provided by the user.\n",
      "        If you can't answer the question with or without the current context, you should reply exactly\n",
      "        `I am unable to find relevant context to answer your question.`.\n",
      "        You must give as short an answer as possible. Do not output any reasoning. Only return your best response, which may not be the most recent.\n",
      "        Following your best response, list your sources, including file title and hyperlink if available.\n",
      "        Terminate immediately once you have your best response.\n",
      "        Do not allow the ragproxyagent to reply again if not needed.\n",
      "\n",
      "        User's Question is: What do I need to add to my msticpyconfig.yaml config for the Azure Resource Graph query provider?\n",
      "\n",
      "\n",
      "--------------------------------------------------------------------------------\n",
      "\u001b[33massistant\u001b[0m (to ragproxyagent):\n",
      "\n",
      "To add the Azure Resource Graph query provider to your `msticpyconfig.yaml`, include the following configuration:\n",
      "\n",
      "```yaml\n",
      "QueryProviders:\n",
      "  AzureResourceGraph:\n",
      "    Args:\n",
      "      connection_str: \"DefaultEndpointsProtocol=https;AccountName=YOUR_ACCOUNT_NAME;AccountKey=YOUR_ACCOUNT_KEY;EndpointSuffix=core.windows.net\"\n",
      "    Provider: msticpy.query.AzureResourceGraphDriver\n",
      "```\n",
      "\n",
      "Sources: \n",
      "- MSTICPy Configuration Guide: https://msticpy.readthedocs.io/en/latest/data_acquisition/NotebookEnvironment.html#msticpy-configuration\n",
      "\n",
      "--------------------------------------------------------------------------------\n"
     ]
    }
   ],
   "source": [
    "%%ask\n",
    "What do I need to add to my msticpyconfig.yaml config for the Azure Resource Graph query provider?"
   ]
  },
  {
   "cell_type": "code",
   "execution_count": 5,
   "metadata": {},
   "outputs": [
    {
     "name": "stdout",
     "output_type": "stream",
     "text": [
      "Question: Does the Splunk query provider support device code authentication?\n",
      "\n",
      "VectorDB returns doc_ids:  [['83c81e7e', '3db36d46', 'b208a1f4', 'a015137a', '352664f0', 'fd061cb5', '7ae89bb6', '21b41b41', '6aca0fa2', '1f5c9ab2', '32e8475e', 'cdc30243', 'bbc823d7', '8357f6c2', 'cef15b90', 'c034eac4', '78f19b62', 'd36c93bd', '8e82d2ba', 'b1fb09dd']]\n",
      "\u001b[32mAdding content of doc 83c81e7e to context.\u001b[0m\n",
      "\u001b[33mragproxyagent\u001b[0m (to assistant):\n",
      "\n",
      "You're a retrieve augmented chatbot for MSTICpy.\n",
      "        You answer user's questions based on your own knowledge and the context provided by the user.\n",
      "        If you can't answer the question with or without the current context, you should reply exactly\n",
      "        `I am unable to find relevant context to answer your question.`.\n",
      "        You must give as short an answer as possible. Do not output any reasoning. Only return your best response, which may not be the most recent.\n",
      "        Following your best response, list your sources, including file title and hyperlink if available.\n",
      "        Terminate immediately once you have your best response.\n",
      "        Do not allow the ragproxyagent to reply again if not needed.\n",
      "\n",
      "        User's Question is: Does the Splunk query provider support device code authentication?\n",
      "\n",
      "\n",
      "--------------------------------------------------------------------------------\n",
      "\u001b[33massistant\u001b[0m (to ragproxyagent):\n",
      "\n",
      "I am unable to find relevant context to answer your question.\n",
      "\n",
      "--------------------------------------------------------------------------------\n"
     ]
    }
   ],
   "source": [
    "%%ask\n",
    "Does the Splunk query provider support device code authentication?"
   ]
  },
  {
   "cell_type": "code",
   "execution_count": 6,
   "metadata": {},
   "outputs": [
    {
     "name": "stdout",
     "output_type": "stream",
     "text": [
      "Question: How can I plot IP addresses in this dataframe on a map?\n",
      "\n",
      "VectorDB returns doc_ids:  [['c5da864a', '5cbaf730', 'da746402', '0140ee98', '19724244', 'd6199fac', '79cea9ef', '10e922f3', '72278c06', '81544be9', '301afa6f', 'cbcd76c1', '808aa8bb', '7369ffc2', '17cfc909', '094373af', '3d9c1e8e', '0f531c09', '352664f0', '709cb713']]\n",
      "\u001b[32mAdding content of doc c5da864a to context.\u001b[0m\n",
      "\u001b[33mragproxyagent\u001b[0m (to assistant):\n",
      "\n",
      "You're a retrieve augmented chatbot for MSTICpy.\n",
      "        You answer user's questions based on your own knowledge and the context provided by the user.\n",
      "        If you can't answer the question with or without the current context, you should reply exactly\n",
      "        `I am unable to find relevant context to answer your question.`.\n",
      "        You must give as short an answer as possible. Do not output any reasoning. Only return your best response, which may not be the most recent.\n",
      "        Following your best response, list your sources, including file title and hyperlink if available.\n",
      "        Terminate immediately once you have your best response.\n",
      "        Do not allow the ragproxyagent to reply again if not needed.\n",
      "\n",
      "        User's Question is: How can I plot IP addresses in this dataframe on a map?\n",
      "\n",
      "\n",
      "--------------------------------------------------------------------------------\n",
      "\u001b[33massistant\u001b[0m (to ragproxyagent):\n",
      "\n",
      "You can plot IP addresses on a map using MSTICpy's GeoLite Lookup function to get geolocation data and then use libraries like Folium to visualize it.\n",
      "\n",
      "Sources: MSTICpy documentation (https://msticpy.readthedocs.io/en/latest/data/geolocate.html)\n",
      "\n",
      "--------------------------------------------------------------------------------\n"
     ]
    }
   ],
   "source": [
    "%%ask \n",
    "How can I plot IP addresses in this dataframe on a map?"
   ]
  },
  {
   "cell_type": "code",
   "execution_count": 7,
   "metadata": {},
   "outputs": [
    {
     "name": "stdout",
     "output_type": "stream",
     "text": [
      "Question: How do I create a new custom data provider with msticpy?\n",
      "\n",
      "VectorDB returns doc_ids:  [['21b41b41', 'ff457565', '1118b3aa', 'a97d6fd2', '4f727bb6', 'b40f84cc', 'c87470ff', '4a999eef', 'fbc0da4b', 'b7e667f7', '370436e3', '29c72f81', 'd79d6156', '6aca0fa2', '940f3fed', 'fdc8d8e8', 'a0deff86', '89a1fb28', '75b049ce', '33ff9516']]\n",
      "\u001b[32mAdding content of doc 21b41b41 to context.\u001b[0m\n",
      "\u001b[32mAdding content of doc ff457565 to context.\u001b[0m\n",
      "\u001b[32mAdding content of doc 1118b3aa to context.\u001b[0m\n",
      "\u001b[32mAdding content of doc a97d6fd2 to context.\u001b[0m\n",
      "\u001b[32mAdding content of doc 4f727bb6 to context.\u001b[0m\n",
      "\u001b[32mAdding content of doc b40f84cc to context.\u001b[0m\n",
      "\u001b[32mAdding content of doc c87470ff to context.\u001b[0m\n",
      "\u001b[32mAdding content of doc 4a999eef to context.\u001b[0m\n",
      "\u001b[32mAdding content of doc fbc0da4b to context.\u001b[0m\n",
      "\u001b[33mragproxyagent\u001b[0m (to assistant):\n",
      "\n",
      "You're a retrieve augmented chatbot for MSTICpy.\n",
      "        You answer user's questions based on your own knowledge and the context provided by the user.\n",
      "        If you can't answer the question with or without the current context, you should reply exactly\n",
      "        `I am unable to find relevant context to answer your question.`.\n",
      "        You must give as short an answer as possible. Do not output any reasoning. Only return your best response, which may not be the most recent.\n",
      "        Following your best response, list your sources, including file title and hyperlink if available.\n",
      "        Terminate immediately once you have your best response.\n",
      "        Do not allow the ragproxyagent to reply again if not needed.\n",
      "\n",
      "        User's Question is: How do I create a new custom data provider with msticpy?\n",
      "\n",
      "\n",
      "--------------------------------------------------------------------------------\n",
      "\u001b[33massistant\u001b[0m (to ragproxyagent):\n",
      "\n",
      "You can create a new custom data provider in MSTICpy by defining a new class that inherits from `QueryProviderBase`. Implement the `query` method to include your custom logic.\n",
      "\n",
      "Source: MSTICPy documentation - [MSTICPy Data Providers](https://msticpy.readthedocs.io/en/latest/data_acquisition/DataProviders.html)\n",
      "\n",
      "--------------------------------------------------------------------------------\n"
     ]
    }
   ],
   "source": [
    "%%ask \n",
    "How do I create a new custom data provider with msticpy?"
   ]
  },
  {
   "cell_type": "code",
   "execution_count": 8,
   "metadata": {},
   "outputs": [
    {
     "name": "stdout",
     "output_type": "stream",
     "text": [
      "Question: How do I list which TI providers are currently enabled?\n",
      "\n",
      "VectorDB returns doc_ids:  [['29c72f81', 'ac320e74', '21b41b41', 'fbc0da4b', '1f5c9ab2', '3a87b2ae', 'a1c83695', 'a97d6fd2', 'e36d8995', '0a27be05', '77049231', '4a999eef', '9fa07157', 'f84e8b42', '1118b3aa', 'c4f51c29', '4f727bb6', '0cd16cda', '4adaa507', 'b77aab4e']]\n",
      "\u001b[32mAdding content of doc 29c72f81 to context.\u001b[0m\n",
      "\u001b[32mAdding content of doc ac320e74 to context.\u001b[0m\n",
      "\u001b[33mragproxyagent\u001b[0m (to assistant):\n",
      "\n",
      "You're a retrieve augmented chatbot for MSTICpy.\n",
      "        You answer user's questions based on your own knowledge and the context provided by the user.\n",
      "        If you can't answer the question with or without the current context, you should reply exactly\n",
      "        `I am unable to find relevant context to answer your question.`.\n",
      "        You must give as short an answer as possible. Do not output any reasoning. Only return your best response, which may not be the most recent.\n",
      "        Following your best response, list your sources, including file title and hyperlink if available.\n",
      "        Terminate immediately once you have your best response.\n",
      "        Do not allow the ragproxyagent to reply again if not needed.\n",
      "\n",
      "        User's Question is: How do I list which TI providers are currently enabled?\n",
      "\n",
      "\n",
      "--------------------------------------------------------------------------------\n",
      "\u001b[33massistant\u001b[0m (to ragproxyagent):\n",
      "\n",
      "You can list the currently enabled Threat Intelligence (TI) providers using the following code snippet in MSTICpy:\n",
      "\n",
      "```python\n",
      "from msticpy.context.tiproviders import TIProviders\n",
      "providers = TIProviders()\n",
      "print(providers.enabled_providers)\n",
      "```\n",
      "\n",
      "Sources: MSTICPy Documentation - https://msticpy.readthedocs.io/en/latest/\n",
      "\n",
      "--------------------------------------------------------------------------------\n",
      "\u001b[33mragproxyagent\u001b[0m (to assistant):\n",
      "\n",
      "\n",
      "\n",
      "--------------------------------------------------------------------------------\n",
      "\u001b[33massistant\u001b[0m (to ragproxyagent):\n",
      "\n",
      "I am unable to find relevant context to answer your question.\n",
      "\n",
      "--------------------------------------------------------------------------------\n"
     ]
    }
   ],
   "source": [
    "%%ask \n",
    "How do I list which TI providers are currently enabled?"
   ]
  },
  {
   "cell_type": "code",
   "execution_count": 9,
   "metadata": {},
   "outputs": [
    {
     "name": "stdout",
     "output_type": "stream",
     "text": [
      "Question: How do I lookup threat intelligence for multiple IP addresses at once?\n",
      "\n",
      "VectorDB returns doc_ids:  [['d6199fac', 'd629f170', 'da746402', '0a27be05', '301afa6f', '29c72f81', '0f531c09', '87f41b4a', '1cf291b8', '7af3e670', 'a1c83695', '05bfeda8', 'fa1dfb41', 'c4f51c29', '32e8475e', '26f13abf', '81544be9', '808aa8bb', 'b6ffbe47', '5cbaf730']]\n",
      "\u001b[32mAdding content of doc d6199fac to context.\u001b[0m\n",
      "\u001b[33mragproxyagent\u001b[0m (to assistant):\n",
      "\n",
      "You're a retrieve augmented chatbot for MSTICpy.\n",
      "        You answer user's questions based on your own knowledge and the context provided by the user.\n",
      "        If you can't answer the question with or without the current context, you should reply exactly\n",
      "        `I am unable to find relevant context to answer your question.`.\n",
      "        You must give as short an answer as possible. Do not output any reasoning. Only return your best response, which may not be the most recent.\n",
      "        Following your best response, list your sources, including file title and hyperlink if available.\n",
      "        Terminate immediately once you have your best response.\n",
      "        Do not allow the ragproxyagent to reply again if not needed.\n",
      "\n",
      "        User's Question is: How do I lookup threat intelligence for multiple IP addresses at once?\n",
      "\n",
      "\n",
      "--------------------------------------------------------------------------------\n",
      "\u001b[33massistant\u001b[0m (to ragproxyagent):\n",
      "\n",
      "You can use the `TILookup` class from `msticpy.context.tilookup` to lookup threat intelligence for multiple IP addresses at once by passing a list of IPs to its `lookup_ioc` method.\n",
      "\n",
      "Sources:\n",
      "- MSTICPy documentation: [TILookup class](https://msticpy.readthedocs.io/en/latest/api/msticpy.context.tilookup.html#msticpy.context.tilookup.TILookup.lookup_ioc)\n",
      "\n",
      "--------------------------------------------------------------------------------\n"
     ]
    }
   ],
   "source": [
    "%%ask \n",
    "How do I lookup threat intelligence for multiple IP addresses at once?"
   ]
  },
  {
   "cell_type": "code",
   "execution_count": 10,
   "metadata": {},
   "outputs": [
    {
     "name": "stdout",
     "output_type": "stream",
     "text": [
      "Question: How do I use pivot functions?\n",
      "\n",
      "VectorDB returns doc_ids:  [['3d9c1e8e', '1cf291b8', '79cea9ef', 'd6671db0', '56029216', '995af4b3', '80ff696b', 'ea6f6df5', '20cf91e4', '42c66c1e', '7a577987', '53e466fc', '079738fa', '479fe9a3', '20d44d62', '767708dd', '0449df85', '940f3fed', '816ed06e', 'e8623671']]\n",
      "\u001b[32mAdding content of doc 3d9c1e8e to context.\u001b[0m\n",
      "\u001b[32mSkip doc_id 1cf291b8 as it is too long to fit in the context.\u001b[0m\n",
      "\u001b[32mAdding content of doc 79cea9ef to context.\u001b[0m\n",
      "\u001b[32mAdding content of doc d6671db0 to context.\u001b[0m\n",
      "\u001b[33mragproxyagent\u001b[0m (to assistant):\n",
      "\n",
      "You're a retrieve augmented chatbot for MSTICpy.\n",
      "        You answer user's questions based on your own knowledge and the context provided by the user.\n",
      "        If you can't answer the question with or without the current context, you should reply exactly\n",
      "        `I am unable to find relevant context to answer your question.`.\n",
      "        You must give as short an answer as possible. Do not output any reasoning. Only return your best response, which may not be the most recent.\n",
      "        Following your best response, list your sources, including file title and hyperlink if available.\n",
      "        Terminate immediately once you have your best response.\n",
      "        Do not allow the ragproxyagent to reply again if not needed.\n",
      "\n",
      "        User's Question is: How do I use pivot functions?\n",
      "\n",
      "\n",
      "--------------------------------------------------------------------------------\n",
      "\u001b[33massistant\u001b[0m (to ragproxyagent):\n",
      "\n",
      "To use pivot functions in MSTICpy:\n",
      "\n",
      "1. Import the Pivot module: `from msticpy.transform.data_pivots import Pivot`\n",
      "2. Create a Pivot instance: `pivot = Pivot()`\n",
      "3. Apply pivot functions to your data.\n",
      "\n",
      "Source: MSTICpy Documentation\n",
      "Link: [Using MSTICpy Data Pivots](https://msticpy.readthedocs.io/en/latest/data_pivots/DataPivot.html)\n",
      "\n",
      "--------------------------------------------------------------------------------\n"
     ]
    }
   ],
   "source": [
    "%%ask \n",
    "How do I use pivot functions?"
   ]
  },
  {
   "cell_type": "code",
   "execution_count": 11,
   "metadata": {},
   "outputs": [
    {
     "name": "stdout",
     "output_type": "stream",
     "text": [
      "Question: Which columns do I need in a dataframe to plot process trees?\n",
      "\n",
      "VectorDB returns doc_ids:  [['b11173f3', 'f9caf665', '5cbaf730', '19724244', '79cea9ef', '72278c06', 'cc05b515', '548095e2', '3d9c1e8e', '0140ee98', 'c5da864a', 'ca23677c', 'cbcd76c1', 'f42ab95f', '1cf291b8', '709cb713', '808aa8bb', '352664f0', 'b6ffbe47', '81544be9']]\n",
      "\u001b[32mSkip doc_id b11173f3 as it is too long to fit in the context.\u001b[0m\n",
      "\u001b[32mAdding content of doc f9caf665 to context.\u001b[0m\n",
      "\u001b[32mAdding content of doc 5cbaf730 to context.\u001b[0m\n",
      "\u001b[32mAdding content of doc 19724244 to context.\u001b[0m\n",
      "\u001b[33mragproxyagent\u001b[0m (to assistant):\n",
      "\n",
      "You're a retrieve augmented chatbot for MSTICpy.\n",
      "        You answer user's questions based on your own knowledge and the context provided by the user.\n",
      "        If you can't answer the question with or without the current context, you should reply exactly\n",
      "        `I am unable to find relevant context to answer your question.`.\n",
      "        You must give as short an answer as possible. Do not output any reasoning. Only return your best response, which may not be the most recent.\n",
      "        Following your best response, list your sources, including file title and hyperlink if available.\n",
      "        Terminate immediately once you have your best response.\n",
      "        Do not allow the ragproxyagent to reply again if not needed.\n",
      "\n",
      "        User's Question is: Which columns do I need in a dataframe to plot process trees?\n",
      "\n",
      "\n",
      "--------------------------------------------------------------------------------\n",
      "\u001b[33massistant\u001b[0m (to ragproxyagent):\n",
      "\n",
      "You need the following columns in a dataframe to plot process trees: `ProcessId`, `ParentProcessId`, `NewProcessName`, and `TimeGenerated`.\n",
      "\n",
      "Sources:\n",
      "- MSTICPy Documentation: [GitHub](https://github.com/microsoft/msticpy)\n",
      "\n",
      "--------------------------------------------------------------------------------\n"
     ]
    }
   ],
   "source": [
    "%%ask \n",
    "Which columns do I need in a dataframe to plot process trees?"
   ]
  },
  {
   "cell_type": "code",
   "execution_count": 12,
   "metadata": {},
   "outputs": [
    {
     "name": "stdout",
     "output_type": "stream",
     "text": [
      "Question: What kind of visualizations does msticpy support?\n",
      "\n",
      "VectorDB returns doc_ids:  [['940f3fed', 'ca23677c', 'd1dc0cca', '352664f0', 'f42ab95f', 'ff457565', '7369ffc2', 'b7e667f7', '37f04ccd', 'f81cfa86', 'c5da864a', 'b11173f3', 'f9caf665', '094373af', '5edde4d1', 'cbcd76c1', '1f8369c6', '9fa07157', '808aa8bb', 'cef15b90']]\n",
      "\u001b[32mAdding content of doc 940f3fed to context.\u001b[0m\n",
      "\u001b[32mAdding content of doc ca23677c to context.\u001b[0m\n",
      "\u001b[32mAdding content of doc d1dc0cca to context.\u001b[0m\n",
      "\u001b[32mAdding content of doc 352664f0 to context.\u001b[0m\n",
      "\u001b[32mAdding content of doc f42ab95f to context.\u001b[0m\n",
      "\u001b[32mAdding content of doc ff457565 to context.\u001b[0m\n",
      "\u001b[32mAdding content of doc 7369ffc2 to context.\u001b[0m\n",
      "\u001b[32mAdding content of doc b7e667f7 to context.\u001b[0m\n",
      "\u001b[32mAdding content of doc 37f04ccd to context.\u001b[0m\n",
      "\u001b[32mAdding content of doc f81cfa86 to context.\u001b[0m\n",
      "\u001b[33mragproxyagent\u001b[0m (to assistant):\n",
      "\n",
      "You're a retrieve augmented chatbot for MSTICpy.\n",
      "        You answer user's questions based on your own knowledge and the context provided by the user.\n",
      "        If you can't answer the question with or without the current context, you should reply exactly\n",
      "        `I am unable to find relevant context to answer your question.`.\n",
      "        You must give as short an answer as possible. Do not output any reasoning. Only return your best response, which may not be the most recent.\n",
      "        Following your best response, list your sources, including file title and hyperlink if available.\n",
      "        Terminate immediately once you have your best response.\n",
      "        Do not allow the ragproxyagent to reply again if not needed.\n",
      "\n",
      "        User's Question is: What kind of visualizations does msticpy support?\n",
      "\n",
      "\n",
      "--------------------------------------------------------------------------------\n",
      "\u001b[33massistant\u001b[0m (to ragproxyagent):\n",
      "\n",
      "MSTICpy supports various visualizations, including:\n",
      "\n",
      "- Timeline plots\n",
      "- Geolocation plots\n",
      "- Network connection diagrams\n",
      "- Azure Identity Summary plots\n",
      "- Process tree diagrams\n",
      "\n",
      "Sources:\n",
      "1. MSTICPy Documentation - https://msticpy.readthedocs.io/en/latest/\n",
      "\n",
      "\n",
      "\n",
      "--------------------------------------------------------------------------------\n"
     ]
    }
   ],
   "source": [
    "%%ask \n",
    "What kind of visualizations does msticpy support?"
   ]
  },
  {
   "cell_type": "code",
   "execution_count": 14,
   "metadata": {},
   "outputs": [
    {
     "name": "stdout",
     "output_type": "stream",
     "text": [
      "Question: How do I add a new query for Microsoft 365 Defender to msticpy?\n",
      "\n",
      "VectorDB returns doc_ids:  [['a1c83695', '6aca0fa2', '352664f0', 'c4f51c29', 'a97d6fd2', 'f81cfa86', 'b77aab4e', '940f3fed', 'c7336e3f', '050704f6', '71b249fe', 'b7e667f7', 'c582d466', 'd1dc0cca', '5164cf09', '876052d7', 'bcf92e5b', 'a015137a', 'ba9edd69', '0a27be05']]\n",
      "\u001b[32mAdding content of doc a1c83695 to context.\u001b[0m\n",
      "\u001b[33mragproxyagent\u001b[0m (to assistant):\n",
      "\n",
      "You're a retrieve augmented chatbot for MSTICpy.\n",
      "        You answer user's questions based on your own knowledge and the context provided by the user.\n",
      "        If you can't answer the question with or without the current context, you should reply exactly\n",
      "        `I am unable to find relevant context to answer your question.`.\n",
      "        You must give as short an answer as possible. Do not output any reasoning. Only return your best response, which may not be the most recent.\n",
      "        Following your best response, list your sources, including file title and hyperlink if available.\n",
      "        Terminate immediately once you have your best response.\n",
      "        Do not allow the ragproxyagent to reply again if not needed.\n",
      "\n",
      "        User's Question is: How do I add a new query for Microsoft 365 Defender to msticpy?\n",
      "\n",
      "\n",
      "--------------------------------------------------------------------------------\n",
      "\u001b[33massistant\u001b[0m (to ragproxyagent):\n",
      "\n",
      "I am unable to find relevant context to answer your question.\n",
      "\n",
      "--------------------------------------------------------------------------------\n"
     ]
    }
   ],
   "source": [
    "%%ask \n",
    "How do I add a new query for Microsoft 365 Defender to msticpy?"
   ]
  },
  {
   "cell_type": "code",
   "execution_count": 15,
   "metadata": {},
   "outputs": [
    {
     "name": "stdout",
     "output_type": "stream",
     "text": [
      "Question: Which msticpy module contains the code related to visualizing network graphs?\n",
      "\n",
      "VectorDB returns doc_ids:  [['19724244', '5edde4d1', '808aa8bb', 'f42ab95f', '94665ddc', 'f634508c', '59f24e4d', '8dabd0c4', '9fa07157', '352664f0', 'bf80766e', 'b96a5b2f', '6589dc3b', '4145947c', '37f04ccd', '940f3fed', 'ddb98f2d', 'd1dc0cca', '7369ffc2', '094373af']]\n",
      "\u001b[32mAdding content of doc 19724244 to context.\u001b[0m\n",
      "\u001b[32mAdding content of doc 5edde4d1 to context.\u001b[0m\n",
      "\u001b[32mAdding content of doc 808aa8bb to context.\u001b[0m\n",
      "\u001b[32mAdding content of doc f42ab95f to context.\u001b[0m\n",
      "\u001b[32mAdding content of doc 94665ddc to context.\u001b[0m\n",
      "\u001b[32mAdding content of doc f634508c to context.\u001b[0m\n",
      "\u001b[32mAdding content of doc 59f24e4d to context.\u001b[0m\n",
      "\u001b[32mAdding content of doc 8dabd0c4 to context.\u001b[0m\n",
      "\u001b[32mAdding content of doc 9fa07157 to context.\u001b[0m\n",
      "\u001b[32mAdding content of doc 352664f0 to context.\u001b[0m\n",
      "\u001b[32mAdding content of doc bf80766e to context.\u001b[0m\n",
      "\u001b[32mAdding content of doc b96a5b2f to context.\u001b[0m\n",
      "\u001b[32mAdding content of doc 6589dc3b to context.\u001b[0m\n",
      "\u001b[32mAdding content of doc 4145947c to context.\u001b[0m\n",
      "\u001b[32mAdding content of doc 37f04ccd to context.\u001b[0m\n",
      "\u001b[33mragproxyagent\u001b[0m (to assistant):\n",
      "\n",
      "You're a retrieve augmented chatbot for MSTICpy.\n",
      "        You answer user's questions based on your own knowledge and the context provided by the user.\n",
      "        If you can't answer the question with or without the current context, you should reply exactly\n",
      "        `I am unable to find relevant context to answer your question.`.\n",
      "        You must give as short an answer as possible. Do not output any reasoning. Only return your best response, which may not be the most recent.\n",
      "        Following your best response, list your sources, including file title and hyperlink if available.\n",
      "        Terminate immediately once you have your best response.\n",
      "        Do not allow the ragproxyagent to reply again if not needed.\n",
      "\n",
      "        User's Question is: Which msticpy module contains the code related to visualizing network graphs?\n",
      "\n",
      "\n",
      "--------------------------------------------------------------------------------\n",
      "\u001b[33massistant\u001b[0m (to ragproxyagent):\n",
      "\n",
      "The MSTICpy module for visualizing network graphs is `msticpy.vis.network`.\n",
      "\n",
      "Source: [MSTICpy Documentation](https://msticpy.readthedocs.io/en/latest/index.html)\n",
      "\n",
      "--------------------------------------------------------------------------------\n"
     ]
    }
   ],
   "source": [
    "%%ask\n",
    "Which msticpy module contains the code related to visualizing network graphs?"
   ]
  }
 ],
 "metadata": {
  "kernelspec": {
   "display_name": "internshipenv",
   "language": "python",
   "name": "python3"
  },
  "language_info": {
   "codemirror_mode": {
    "name": "ipython",
    "version": 3
   },
   "file_extension": ".py",
   "mimetype": "text/x-python",
   "name": "python",
   "nbconvert_exporter": "python",
   "pygments_lexer": "ipython3",
   "version": "3.10.14"
  }
 },
 "nbformat": 4,
 "nbformat_minor": 2
}
